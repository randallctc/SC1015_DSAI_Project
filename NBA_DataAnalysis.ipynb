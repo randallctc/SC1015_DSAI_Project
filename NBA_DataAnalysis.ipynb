{
 "cells": [
  {
   "cell_type": "markdown",
   "id": "847efcac",
   "metadata": {},
   "source": [
    "# Data Cleaning and Preparation"
   ]
  },
  {
   "cell_type": "code",
   "execution_count": 1,
   "id": "f4bc55e9",
   "metadata": {},
   "outputs": [],
   "source": [
    "import numpy as np\n",
    "import pandas as pd\n",
    "import seaborn as sb\n",
    "import matplotlib.pyplot as plt # we only need pyplot\n",
    "sb.set() # set the default Seaborn style for graphics\n",
    "from sklearn.model_selection import train_test_split"
   ]
  },
  {
   "cell_type": "code",
   "execution_count": 2,
   "id": "d71872b7",
   "metadata": {},
   "outputs": [
    {
     "name": "stdout",
     "output_type": "stream",
     "text": [
      "<class 'pandas.core.frame.DataFrame'>\n",
      "RangeIndex: 12305 entries, 0 to 12304\n",
      "Data columns (total 22 columns):\n",
      " #   Column             Non-Null Count  Dtype  \n",
      "---  ------             --------------  -----  \n",
      " 0   Unnamed: 0         12305 non-null  int64  \n",
      " 1   player_name        12305 non-null  object \n",
      " 2   team_abbreviation  12305 non-null  object \n",
      " 3   age                12305 non-null  float64\n",
      " 4   player_height      12305 non-null  float64\n",
      " 5   player_weight      12305 non-null  float64\n",
      " 6   college            12305 non-null  object \n",
      " 7   country            12305 non-null  object \n",
      " 8   draft_year         12305 non-null  object \n",
      " 9   draft_round        12305 non-null  object \n",
      " 10  draft_number       12305 non-null  object \n",
      " 11  gp                 12305 non-null  int64  \n",
      " 12  pts                12305 non-null  float64\n",
      " 13  reb                12305 non-null  float64\n",
      " 14  ast                12305 non-null  float64\n",
      " 15  net_rating         12305 non-null  float64\n",
      " 16  oreb_pct           12305 non-null  float64\n",
      " 17  dreb_pct           12305 non-null  float64\n",
      " 18  usg_pct            12305 non-null  float64\n",
      " 19  ts_pct             12305 non-null  float64\n",
      " 20  ast_pct            12305 non-null  float64\n",
      " 21  season             12305 non-null  object \n",
      "dtypes: float64(12), int64(2), object(8)\n",
      "memory usage: 2.1+ MB\n"
     ]
    }
   ],
   "source": [
    "nba = pd.read_csv('all_seasons.csv')\n",
    "nba.head()\n",
    "nba.info()\n",
    "nba_df = pd.DataFrame(nba)"
   ]
  },
  {
   "cell_type": "code",
   "execution_count": 3,
   "id": "129ba856",
   "metadata": {},
   "outputs": [],
   "source": [
    "nba_df = nba_df.drop(['team_abbreviation'], axis= 1)\n",
    "nba_df = nba_df.drop(['college'], axis= 1)\n",
    "nba_df = nba_df.drop(['country'], axis= 1)\n",
    "nba_df = nba_df.drop(['season'], axis= 1)\n",
    "nba_df = nba_df.drop(['draft_year'], axis= 1)\n",
    "nba_df = nba_df.drop(['player_name'], axis = 1)"
   ]
  },
  {
   "cell_type": "code",
   "execution_count": 4,
   "id": "62a25d5d",
   "metadata": {},
   "outputs": [
    {
     "data": {
      "text/plain": [
       "array(['2', '1', '3', '4', '8', '6', '7', '0'], dtype=object)"
      ]
     },
     "execution_count": 4,
     "metadata": {},
     "output_type": "execute_result"
    }
   ],
   "source": [
    "nba_df = nba_df[nba_df['draft_round'] != 'Undrafted']\n",
    "nba_df['draft_round'].unique()"
   ]
  },
  {
   "cell_type": "code",
   "execution_count": 5,
   "id": "637f2c8e",
   "metadata": {},
   "outputs": [
    {
     "data": {
      "text/plain": [
       "array(['27', '24', '58', '9', '10', '29', '37', '38', '25', '13', '17',\n",
       "       '18', '21', '15', '43', '14', '23', '40', '4', '11', '47', '33',\n",
       "       '1', '8', '3', '19', '52', '42', '39', '6', '45', '30', '20', '48',\n",
       "       '5', '79', '2', '41', '46', '34', '12', '7', '22', '57', '26',\n",
       "       '35', '28', '49', '16', '32', '53', '36', '44', '165', '56', '75',\n",
       "       '51', '54', '127', '139', '31', '50', '124', '63', '69', '160',\n",
       "       '55', '120', '87', '66', '82', '60', '59', '78', '0'], dtype=object)"
      ]
     },
     "execution_count": 5,
     "metadata": {},
     "output_type": "execute_result"
    }
   ],
   "source": [
    "nba_df = nba_df[nba_df['draft_number'] != 'Undrafted']\n",
    "nba_df['draft_number'].unique()"
   ]
  },
  {
   "cell_type": "code",
   "execution_count": 6,
   "id": "0dd2b9de",
   "metadata": {},
   "outputs": [
    {
     "name": "stdout",
     "output_type": "stream",
     "text": [
      "<class 'pandas.core.frame.DataFrame'>\n",
      "Int64Index: 10028 entries, 0 to 12302\n",
      "Data columns (total 16 columns):\n",
      " #   Column         Non-Null Count  Dtype  \n",
      "---  ------         --------------  -----  \n",
      " 0   Unnamed: 0     10028 non-null  int64  \n",
      " 1   age            10028 non-null  float64\n",
      " 2   player_height  10028 non-null  float64\n",
      " 3   player_weight  10028 non-null  float64\n",
      " 4   draft_round    10028 non-null  object \n",
      " 5   draft_number   10028 non-null  object \n",
      " 6   gp             10028 non-null  int64  \n",
      " 7   pts            10028 non-null  float64\n",
      " 8   reb            10028 non-null  float64\n",
      " 9   ast            10028 non-null  float64\n",
      " 10  net_rating     10028 non-null  float64\n",
      " 11  oreb_pct       10028 non-null  float64\n",
      " 12  dreb_pct       10028 non-null  float64\n",
      " 13  usg_pct        10028 non-null  float64\n",
      " 14  ts_pct         10028 non-null  float64\n",
      " 15  ast_pct        10028 non-null  float64\n",
      "dtypes: float64(12), int64(2), object(2)\n",
      "memory usage: 1.3+ MB\n"
     ]
    }
   ],
   "source": [
    "nba_df.info()"
   ]
  },
  {
   "cell_type": "code",
   "execution_count": 7,
   "id": "c72fa3de",
   "metadata": {},
   "outputs": [
    {
     "data": {
      "text/plain": [
       "count    10028.000000\n",
       "mean        27.092541\n",
       "std          4.480960\n",
       "min         18.000000\n",
       "25%         24.000000\n",
       "50%         26.000000\n",
       "75%         30.000000\n",
       "max         44.000000\n",
       "Name: age, dtype: float64"
      ]
     },
     "execution_count": 7,
     "metadata": {},
     "output_type": "execute_result"
    }
   ],
   "source": [
    "nba_df['age'].describe()"
   ]
  },
  {
   "cell_type": "code",
   "execution_count": 22,
   "id": "7695da17",
   "metadata": {},
   "outputs": [
    {
     "name": "stderr",
     "output_type": "stream",
     "text": [
      "C:\\Users\\garyg\\anaconda3\\lib\\site-packages\\IPython\\lib\\pretty.py:700: FutureWarning: Index.ravel returning ndarray is deprecated; in a future version this will return a view on self.\n",
      "  output = repr(obj)\n"
     ]
    },
    {
     "data": {
      "text/plain": [
       "0        34.5\n",
       "1        28.5\n",
       "2        37.5\n",
       "3        22.5\n",
       "4        34.5\n",
       "         ... \n",
       "12297    22.5\n",
       "12299    22.5\n",
       "12300    31.5\n",
       "12301    22.5\n",
       "12302    28.5\n",
       "Name: age_bins, Length: 10028, dtype: category\n",
       "Categories (9, float64): [19.5 < 22.5 < 25.5 < 28.5 ... 34.5 < 37.5 < 40.5 < 43.5]"
      ]
     },
     "execution_count": 22,
     "metadata": {},
     "output_type": "execute_result"
    }
   ],
   "source": [
    "label= [19.5, 22.5, 25.5 ,28.5,31.5,34.5,37.5,40.5,43.5]\n",
    "nba_df['age_bins'] = pd.cut(x = nba_df['age'], bins = [18, 21, 24, 27, 30, 33, 36, 39, 42 ,45], labels = label)\n",
    "nba_df['age_bins']"
   ]
  },
  {
   "cell_type": "code",
   "execution_count": 9,
   "id": "088fc80b",
   "metadata": {},
   "outputs": [
    {
     "data": {
      "text/plain": [
       "count    10028.000000\n",
       "mean       201.285070\n",
       "std          8.941039\n",
       "min        160.020000\n",
       "25%        195.580000\n",
       "50%        203.200000\n",
       "75%        208.280000\n",
       "max        231.140000\n",
       "Name: player_height, dtype: float64"
      ]
     },
     "execution_count": 9,
     "metadata": {},
     "output_type": "execute_result"
    }
   ],
   "source": [
    "nba_df['player_height'].describe()"
   ]
  },
  {
   "cell_type": "code",
   "execution_count": 10,
   "id": "5f388d1a",
   "metadata": {},
   "outputs": [
    {
     "data": {
      "text/plain": [
       "0        (195.0, 200.0]\n",
       "1        (215.0, 220.0]\n",
       "2        (205.0, 210.0]\n",
       "3        (200.0, 205.0]\n",
       "4        (205.0, 210.0]\n",
       "              ...      \n",
       "12297    (205.0, 210.0]\n",
       "12299    (210.0, 215.0]\n",
       "12300    (205.0, 210.0]\n",
       "12301    (190.0, 195.0]\n",
       "12302    (190.0, 195.0]\n",
       "Name: height_bins, Length: 10028, dtype: category\n",
       "Categories (15, interval[float64, right]): [(159.999, 165.0] < (165.0, 170.0] < (170.0, 175.0] < (175.0, 180.0] ... (215.0, 220.0] < (220.0, 225.0] < (225.0, 230.0] < (230.0, 235.0]]"
      ]
     },
     "execution_count": 10,
     "metadata": {},
     "output_type": "execute_result"
    }
   ],
   "source": [
    "nba_df['height_bins'] = pd.cut(x=nba_df['player_height'], \n",
    "                               bins=range(160, 240, 5), \n",
    "                               include_lowest=True)\n",
    "nba_df['height_bins']"
   ]
  },
  {
   "cell_type": "code",
   "execution_count": 11,
   "id": "0ae8adf4",
   "metadata": {},
   "outputs": [
    {
     "data": {
      "text/plain": [
       "count    10028.000000\n",
       "mean       101.206787\n",
       "std         12.402737\n",
       "min         60.327736\n",
       "25%         92.872962\n",
       "50%        101.151016\n",
       "75%        110.222856\n",
       "max        155.582056\n",
       "Name: player_weight, dtype: float64"
      ]
     },
     "execution_count": 11,
     "metadata": {},
     "output_type": "execute_result"
    }
   ],
   "source": [
    "nba_df['player_weight'].describe()"
   ]
  },
  {
   "cell_type": "code",
   "execution_count": 12,
   "id": "c7b2ced5",
   "metadata": {},
   "outputs": [
    {
     "data": {
      "text/plain": [
       "0         (90.0, 100.0]\n",
       "1        (110.0, 120.0]\n",
       "2         (90.0, 100.0]\n",
       "3        (100.0, 110.0]\n",
       "4        (100.0, 110.0]\n",
       "              ...      \n",
       "12297    (100.0, 110.0]\n",
       "12299     (90.0, 100.0]\n",
       "12300    (110.0, 120.0]\n",
       "12301     (90.0, 100.0]\n",
       "12302     (90.0, 100.0]\n",
       "Name: weight_bins, Length: 10028, dtype: category\n",
       "Categories (9, interval[float64, right]): [(59.999, 70.0] < (70.0, 80.0] < (80.0, 90.0] < (90.0, 100.0] ... (110.0, 120.0] < (120.0, 130.0] < (130.0, 140.0] < (140.0, 150.0]]"
      ]
     },
     "execution_count": 12,
     "metadata": {},
     "output_type": "execute_result"
    }
   ],
   "source": [
    "nba_df['weight_bins'] = pd.cut(x=nba_df['player_weight'], \n",
    "                               bins=range(60, 155, 10), \n",
    "                               include_lowest=True)\n",
    "nba_df['weight_bins']"
   ]
  },
  {
   "cell_type": "code",
   "execution_count": 13,
   "id": "4e656ee2",
   "metadata": {},
   "outputs": [],
   "source": [
    "nba_df['dreb_pct'] = nba_df['dreb_pct'] * 100\n",
    "nba_df['oreb_pct'] = nba_df['oreb_pct'] * 100\n",
    "nba_df['usg_pct'] = nba_df['usg_pct'] * 100\n",
    "nba_df['ts_pct'] = nba_df['ts_pct'] * 100\n",
    "nba_df['ast_pct'] = nba_df['ast_pct'] * 100"
   ]
  },
  {
   "cell_type": "code",
   "execution_count": 14,
   "id": "5d22a16f",
   "metadata": {},
   "outputs": [
    {
     "data": {
      "text/plain": [
       "count    10028.000000\n",
       "mean        14.404986\n",
       "std          5.975865\n",
       "min          0.000000\n",
       "25%          9.900000\n",
       "50%         13.500000\n",
       "75%         18.300000\n",
       "max         71.400000\n",
       "Name: dreb_pct, dtype: float64"
      ]
     },
     "execution_count": 14,
     "metadata": {},
     "output_type": "execute_result"
    }
   ],
   "source": [
    "nba_df['dreb_pct'].describe()"
   ]
  },
  {
   "cell_type": "code",
   "execution_count": 15,
   "id": "d65e02f5",
   "metadata": {},
   "outputs": [
    {
     "data": {
      "text/plain": [
       "count    10028.000000\n",
       "mean         8.953361\n",
       "std          6.148471\n",
       "min          0.000000\n",
       "25%          4.100000\n",
       "50%          7.600000\n",
       "75%         12.500000\n",
       "max         36.100000\n",
       "Name: pts, dtype: float64"
      ]
     },
     "execution_count": 15,
     "metadata": {},
     "output_type": "execute_result"
    }
   ],
   "source": [
    "nba_df['pts'].describe()"
   ]
  },
  {
   "cell_type": "code",
   "execution_count": 16,
   "id": "ae009de9",
   "metadata": {},
   "outputs": [
    {
     "data": {
      "text/plain": [
       "count    10028.000000\n",
       "mean         3.853670\n",
       "std          2.533163\n",
       "min          0.000000\n",
       "25%          2.000000\n",
       "50%          3.300000\n",
       "75%          5.100000\n",
       "max         16.300000\n",
       "Name: reb, dtype: float64"
      ]
     },
     "execution_count": 16,
     "metadata": {},
     "output_type": "execute_result"
    }
   ],
   "source": [
    "nba_df['reb'].describe()"
   ]
  },
  {
   "cell_type": "code",
   "execution_count": 17,
   "id": "bc14238f",
   "metadata": {},
   "outputs": [
    {
     "data": {
      "text/plain": [
       "count    10028.00000\n",
       "mean         1.94634\n",
       "std          1.86335\n",
       "min          0.00000\n",
       "25%          0.60000\n",
       "50%          1.30000\n",
       "75%          2.60000\n",
       "max         11.70000\n",
       "Name: ast, dtype: float64"
      ]
     },
     "execution_count": 17,
     "metadata": {},
     "output_type": "execute_result"
    }
   ],
   "source": [
    "nba_df['ast'].describe()"
   ]
  },
  {
   "cell_type": "code",
   "execution_count": null,
   "id": "e3b4c011",
   "metadata": {},
   "outputs": [],
   "source": []
  },
  {
   "cell_type": "markdown",
   "id": "b53ef408",
   "metadata": {},
   "source": [
    "# Exploratory Data Analysis/Visualisation"
   ]
  },
  {
   "cell_type": "code",
   "execution_count": 18,
   "id": "8402e6e6",
   "metadata": {},
   "outputs": [
    {
     "data": {
      "text/html": [
       "<div>\n",
       "<style scoped>\n",
       "    .dataframe tbody tr th:only-of-type {\n",
       "        vertical-align: middle;\n",
       "    }\n",
       "\n",
       "    .dataframe tbody tr th {\n",
       "        vertical-align: top;\n",
       "    }\n",
       "\n",
       "    .dataframe thead th {\n",
       "        text-align: right;\n",
       "    }\n",
       "</style>\n",
       "<table border=\"1\" class=\"dataframe\">\n",
       "  <thead>\n",
       "    <tr style=\"text-align: right;\">\n",
       "      <th></th>\n",
       "      <th>age_bins</th>\n",
       "    </tr>\n",
       "  </thead>\n",
       "  <tbody>\n",
       "    <tr>\n",
       "      <th>count</th>\n",
       "      <td>10025.0</td>\n",
       "    </tr>\n",
       "    <tr>\n",
       "      <th>unique</th>\n",
       "      <td>9.0</td>\n",
       "    </tr>\n",
       "    <tr>\n",
       "      <th>top</th>\n",
       "      <td>22.5</td>\n",
       "    </tr>\n",
       "    <tr>\n",
       "      <th>freq</th>\n",
       "      <td>2598.0</td>\n",
       "    </tr>\n",
       "  </tbody>\n",
       "</table>\n",
       "</div>"
      ],
      "text/plain": [
       "        age_bins\n",
       "count    10025.0\n",
       "unique       9.0\n",
       "top         22.5\n",
       "freq      2598.0"
      ]
     },
     "execution_count": 18,
     "metadata": {},
     "output_type": "execute_result"
    }
   ],
   "source": [
    "age = pd.DataFrame(nba_df['age_bins']) \n",
    "age.describe()"
   ]
  },
  {
   "cell_type": "code",
   "execution_count": 23,
   "id": "f9c9ac74",
   "metadata": {},
   "outputs": [
    {
     "data": {
      "text/plain": [
       "<AxesSubplot:title={'center':'net_rating'}, xlabel='age_bins'>"
      ]
     },
     "execution_count": 23,
     "metadata": {},
     "output_type": "execute_result"
    },
    {
     "data": {
      "image/png": "[encoded data removed]",
      "text/plain": [
       "<Figure size 1000x600 with 1 Axes>"
      ]
     },
     "metadata": {},
     "output_type": "display_data"
    }
   ],
   "source": [
    "nba_df.boxplot(column='net_rating', by='age_bins',figsize=(10,6))"
   ]
  },
  {
   "cell_type": "code",
   "execution_count": 27,
   "id": "68a76a4e",
   "metadata": {},
   "outputs": [
    {
     "name": "stdout",
     "output_type": "stream",
     "text": [
      "category\n",
      "float64\n"
     ]
    }
   ],
   "source": [
    "print(nba_df['age_bins'].dtype)\n",
    "print(nba_df['net_rating'].dtype)"
   ]
  },
  {
   "cell_type": "code",
   "execution_count": 29,
   "id": "49b3beb0",
   "metadata": {},
   "outputs": [
    {
     "name": "stdout",
     "output_type": "stream",
     "text": [
      "float64\n"
     ]
    }
   ],
   "source": [
    "nba_df['age_bins'] = nba_df['age_bins'].astype(float)\n",
    "print(nba_df['age_bins'].dtype)"
   ]
  },
  {
   "cell_type": "code",
   "execution_count": 30,
   "id": "e291105e",
   "metadata": {},
   "outputs": [
    {
     "name": "stdout",
     "output_type": "stream",
     "text": [
      "0.10912361091416273\n"
     ]
    }
   ],
   "source": [
    "correlation = nba_df['age_bins'].corr(nba_df['net_rating'])\n",
    "print(correlation)"
   ]
  },
  {
   "cell_type": "code",
   "execution_count": 35,
   "id": "d882266f",
   "metadata": {},
   "outputs": [
    {
     "ename": "TypeError",
     "evalue": "boxplot() got an unexpected keyword argument 'figsize'",
     "output_type": "error",
     "traceback": [
      "\u001b[1;31m---------------------------------------------------------------------------\u001b[0m",
      "\u001b[1;31mTypeError\u001b[0m                                 Traceback (most recent call last)",
      "\u001b[1;32m~\\AppData\\Local\\Temp\\ipykernel_13512\\313765361.py\u001b[0m in \u001b[0;36m<module>\u001b[1;34m\u001b[0m\n\u001b[1;32m----> 1\u001b[1;33m \u001b[0msb\u001b[0m\u001b[1;33m.\u001b[0m\u001b[0mboxplot\u001b[0m\u001b[1;33m(\u001b[0m\u001b[0mx\u001b[0m \u001b[1;33m=\u001b[0m \u001b[1;34m'age_bins'\u001b[0m\u001b[1;33m,\u001b[0m \u001b[0my\u001b[0m \u001b[1;33m=\u001b[0m \u001b[1;34m'net_rating'\u001b[0m\u001b[1;33m,\u001b[0m \u001b[0mdata\u001b[0m \u001b[1;33m=\u001b[0m \u001b[0mnba_df\u001b[0m\u001b[1;33m,\u001b[0m\u001b[0mfigsize\u001b[0m\u001b[1;33m=\u001b[0m\u001b[1;33m(\u001b[0m\u001b[1;36m16\u001b[0m\u001b[1;33m,\u001b[0m\u001b[1;36m8\u001b[0m\u001b[1;33m)\u001b[0m\u001b[1;33m)\u001b[0m\u001b[1;33m\u001b[0m\u001b[1;33m\u001b[0m\u001b[0m\n\u001b[0m",
      "\u001b[1;32m~\\anaconda3\\lib\\site-packages\\seaborn\\_decorators.py\u001b[0m in \u001b[0;36minner_f\u001b[1;34m(*args, **kwargs)\u001b[0m\n\u001b[0;32m     44\u001b[0m             )\n\u001b[0;32m     45\u001b[0m         \u001b[0mkwargs\u001b[0m\u001b[1;33m.\u001b[0m\u001b[0mupdate\u001b[0m\u001b[1;33m(\u001b[0m\u001b[1;33m{\u001b[0m\u001b[0mk\u001b[0m\u001b[1;33m:\u001b[0m \u001b[0marg\u001b[0m \u001b[1;32mfor\u001b[0m \u001b[0mk\u001b[0m\u001b[1;33m,\u001b[0m \u001b[0marg\u001b[0m \u001b[1;32min\u001b[0m \u001b[0mzip\u001b[0m\u001b[1;33m(\u001b[0m\u001b[0msig\u001b[0m\u001b[1;33m.\u001b[0m\u001b[0mparameters\u001b[0m\u001b[1;33m,\u001b[0m \u001b[0margs\u001b[0m\u001b[1;33m)\u001b[0m\u001b[1;33m}\u001b[0m\u001b[1;33m)\u001b[0m\u001b[1;33m\u001b[0m\u001b[1;33m\u001b[0m\u001b[0m\n\u001b[1;32m---> 46\u001b[1;33m         \u001b[1;32mreturn\u001b[0m \u001b[0mf\u001b[0m\u001b[1;33m(\u001b[0m\u001b[1;33m**\u001b[0m\u001b[0mkwargs\u001b[0m\u001b[1;33m)\u001b[0m\u001b[1;33m\u001b[0m\u001b[1;33m\u001b[0m\u001b[0m\n\u001b[0m\u001b[0;32m     47\u001b[0m     \u001b[1;32mreturn\u001b[0m \u001b[0minner_f\u001b[0m\u001b[1;33m\u001b[0m\u001b[1;33m\u001b[0m\u001b[0m\n\u001b[0;32m     48\u001b[0m \u001b[1;33m\u001b[0m\u001b[0m\n",
      "\u001b[1;32m~\\anaconda3\\lib\\site-packages\\seaborn\\categorical.py\u001b[0m in \u001b[0;36mboxplot\u001b[1;34m(x, y, hue, data, order, hue_order, orient, color, palette, saturation, width, dodge, fliersize, linewidth, whis, ax, **kwargs)\u001b[0m\n\u001b[0;32m   2249\u001b[0m     \u001b[0mkwargs\u001b[0m\u001b[1;33m.\u001b[0m\u001b[0mupdate\u001b[0m\u001b[1;33m(\u001b[0m\u001b[0mdict\u001b[0m\u001b[1;33m(\u001b[0m\u001b[0mwhis\u001b[0m\u001b[1;33m=\u001b[0m\u001b[0mwhis\u001b[0m\u001b[1;33m)\u001b[0m\u001b[1;33m)\u001b[0m\u001b[1;33m\u001b[0m\u001b[1;33m\u001b[0m\u001b[0m\n\u001b[0;32m   2250\u001b[0m \u001b[1;33m\u001b[0m\u001b[0m\n\u001b[1;32m-> 2251\u001b[1;33m     \u001b[0mplotter\u001b[0m\u001b[1;33m.\u001b[0m\u001b[0mplot\u001b[0m\u001b[1;33m(\u001b[0m\u001b[0max\u001b[0m\u001b[1;33m,\u001b[0m \u001b[0mkwargs\u001b[0m\u001b[1;33m)\u001b[0m\u001b[1;33m\u001b[0m\u001b[1;33m\u001b[0m\u001b[0m\n\u001b[0m\u001b[0;32m   2252\u001b[0m     \u001b[1;32mreturn\u001b[0m \u001b[0max\u001b[0m\u001b[1;33m\u001b[0m\u001b[1;33m\u001b[0m\u001b[0m\n\u001b[0;32m   2253\u001b[0m \u001b[1;33m\u001b[0m\u001b[0m\n",
      "\u001b[1;32m~\\anaconda3\\lib\\site-packages\\seaborn\\categorical.py\u001b[0m in \u001b[0;36mplot\u001b[1;34m(self, ax, boxplot_kws)\u001b[0m\n\u001b[0;32m    507\u001b[0m     \u001b[1;32mdef\u001b[0m \u001b[0mplot\u001b[0m\u001b[1;33m(\u001b[0m\u001b[0mself\u001b[0m\u001b[1;33m,\u001b[0m \u001b[0max\u001b[0m\u001b[1;33m,\u001b[0m \u001b[0mboxplot_kws\u001b[0m\u001b[1;33m)\u001b[0m\u001b[1;33m:\u001b[0m\u001b[1;33m\u001b[0m\u001b[1;33m\u001b[0m\u001b[0m\n\u001b[0;32m    508\u001b[0m         \u001b[1;34m\"\"\"Make the plot.\"\"\"\u001b[0m\u001b[1;33m\u001b[0m\u001b[1;33m\u001b[0m\u001b[0m\n\u001b[1;32m--> 509\u001b[1;33m         \u001b[0mself\u001b[0m\u001b[1;33m.\u001b[0m\u001b[0mdraw_boxplot\u001b[0m\u001b[1;33m(\u001b[0m\u001b[0max\u001b[0m\u001b[1;33m,\u001b[0m \u001b[0mboxplot_kws\u001b[0m\u001b[1;33m)\u001b[0m\u001b[1;33m\u001b[0m\u001b[1;33m\u001b[0m\u001b[0m\n\u001b[0m\u001b[0;32m    510\u001b[0m         \u001b[0mself\u001b[0m\u001b[1;33m.\u001b[0m\u001b[0mannotate_axes\u001b[0m\u001b[1;33m(\u001b[0m\u001b[0max\u001b[0m\u001b[1;33m)\u001b[0m\u001b[1;33m\u001b[0m\u001b[1;33m\u001b[0m\u001b[0m\n\u001b[0;32m    511\u001b[0m         \u001b[1;32mif\u001b[0m \u001b[0mself\u001b[0m\u001b[1;33m.\u001b[0m\u001b[0morient\u001b[0m \u001b[1;33m==\u001b[0m \u001b[1;34m\"h\"\u001b[0m\u001b[1;33m:\u001b[0m\u001b[1;33m\u001b[0m\u001b[1;33m\u001b[0m\u001b[0m\n",
      "\u001b[1;32m~\\anaconda3\\lib\\site-packages\\seaborn\\categorical.py\u001b[0m in \u001b[0;36mdraw_boxplot\u001b[1;34m(self, ax, kws)\u001b[0m\n\u001b[0;32m    439\u001b[0m                     \u001b[1;32mcontinue\u001b[0m\u001b[1;33m\u001b[0m\u001b[1;33m\u001b[0m\u001b[0m\n\u001b[0;32m    440\u001b[0m \u001b[1;33m\u001b[0m\u001b[0m\n\u001b[1;32m--> 441\u001b[1;33m                 artist_dict = ax.boxplot(box_data,\n\u001b[0m\u001b[0;32m    442\u001b[0m                                          \u001b[0mvert\u001b[0m\u001b[1;33m=\u001b[0m\u001b[0mvert\u001b[0m\u001b[1;33m,\u001b[0m\u001b[1;33m\u001b[0m\u001b[1;33m\u001b[0m\u001b[0m\n\u001b[0;32m    443\u001b[0m                                          \u001b[0mpatch_artist\u001b[0m\u001b[1;33m=\u001b[0m\u001b[1;32mTrue\u001b[0m\u001b[1;33m,\u001b[0m\u001b[1;33m\u001b[0m\u001b[1;33m\u001b[0m\u001b[0m\n",
      "\u001b[1;32m~\\anaconda3\\lib\\site-packages\\matplotlib\\__init__.py\u001b[0m in \u001b[0;36minner\u001b[1;34m(ax, data, *args, **kwargs)\u001b[0m\n\u001b[0;32m   1410\u001b[0m     \u001b[1;32mdef\u001b[0m \u001b[0minner\u001b[0m\u001b[1;33m(\u001b[0m\u001b[0max\u001b[0m\u001b[1;33m,\u001b[0m \u001b[1;33m*\u001b[0m\u001b[0margs\u001b[0m\u001b[1;33m,\u001b[0m \u001b[0mdata\u001b[0m\u001b[1;33m=\u001b[0m\u001b[1;32mNone\u001b[0m\u001b[1;33m,\u001b[0m \u001b[1;33m**\u001b[0m\u001b[0mkwargs\u001b[0m\u001b[1;33m)\u001b[0m\u001b[1;33m:\u001b[0m\u001b[1;33m\u001b[0m\u001b[1;33m\u001b[0m\u001b[0m\n\u001b[0;32m   1411\u001b[0m         \u001b[1;32mif\u001b[0m \u001b[0mdata\u001b[0m \u001b[1;32mis\u001b[0m \u001b[1;32mNone\u001b[0m\u001b[1;33m:\u001b[0m\u001b[1;33m\u001b[0m\u001b[1;33m\u001b[0m\u001b[0m\n\u001b[1;32m-> 1412\u001b[1;33m             \u001b[1;32mreturn\u001b[0m \u001b[0mfunc\u001b[0m\u001b[1;33m(\u001b[0m\u001b[0max\u001b[0m\u001b[1;33m,\u001b[0m \u001b[1;33m*\u001b[0m\u001b[0mmap\u001b[0m\u001b[1;33m(\u001b[0m\u001b[0msanitize_sequence\u001b[0m\u001b[1;33m,\u001b[0m \u001b[0margs\u001b[0m\u001b[1;33m)\u001b[0m\u001b[1;33m,\u001b[0m \u001b[1;33m**\u001b[0m\u001b[0mkwargs\u001b[0m\u001b[1;33m)\u001b[0m\u001b[1;33m\u001b[0m\u001b[1;33m\u001b[0m\u001b[0m\n\u001b[0m\u001b[0;32m   1413\u001b[0m \u001b[1;33m\u001b[0m\u001b[0m\n\u001b[0;32m   1414\u001b[0m         \u001b[0mbound\u001b[0m \u001b[1;33m=\u001b[0m \u001b[0mnew_sig\u001b[0m\u001b[1;33m.\u001b[0m\u001b[0mbind\u001b[0m\u001b[1;33m(\u001b[0m\u001b[0max\u001b[0m\u001b[1;33m,\u001b[0m \u001b[1;33m*\u001b[0m\u001b[0margs\u001b[0m\u001b[1;33m,\u001b[0m \u001b[1;33m**\u001b[0m\u001b[0mkwargs\u001b[0m\u001b[1;33m)\u001b[0m\u001b[1;33m\u001b[0m\u001b[1;33m\u001b[0m\u001b[0m\n",
      "\u001b[1;31mTypeError\u001b[0m: boxplot() got an unexpected keyword argument 'figsize'"
     ]
    },
    {
     "data": {
      "image/png": "[encoded data removed]",
      "text/plain": [
       "<Figure size 640x480 with 1 Axes>"
      ]
     },
     "metadata": {},
     "output_type": "display_data"
    }
   ],
   "source": []
  },
  {
   "cell_type": "code",
   "execution_count": null,
   "id": "18863225",
   "metadata": {},
   "outputs": [],
   "source": []
  }
 ],
 "metadata": {
  "kernelspec": {
   "display_name": "Python 3 (ipykernel)",
   "language": "python",
   "name": "python3"
  },
  "language_info": {
   "codemirror_mode": {
    "name": "ipython",
    "version": 3
   },
   "file_extension": ".py",
   "mimetype": "text/x-python",
   "name": "python",
   "nbconvert_exporter": "python",
   "pygments_lexer": "ipython3",
   "version": "3.9.13"
  }
 },
 "nbformat": 4,
 "nbformat_minor": 5
}
