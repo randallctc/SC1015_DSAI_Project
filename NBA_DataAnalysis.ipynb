{
 "cells": [
  {
   "cell_type": "markdown",
   "id": "847efcac",
   "metadata": {},
   "source": [
    "# Data Cleaning and Preparation"
   ]
  },
  {
   "cell_type": "code",
   "execution_count": 18,
   "id": "f4bc55e9",
   "metadata": {},
   "outputs": [],
   "source": [
    "# Basic Libraries\n",
    "import numpy as np\n",
    "import pandas as pd"
   ]
  },
  {
   "cell_type": "code",
   "execution_count": 41,
   "id": "d71872b7",
   "metadata": {},
   "outputs": [
    {
     "name": "stdout",
     "output_type": "stream",
     "text": [
      "<class 'pandas.core.frame.DataFrame'>\n",
      "RangeIndex: 12305 entries, 0 to 12304\n",
      "Data columns (total 22 columns):\n",
      " #   Column             Non-Null Count  Dtype  \n",
      "---  ------             --------------  -----  \n",
      " 0   Unnamed: 0         12305 non-null  int64  \n",
      " 1   player_name        12305 non-null  object \n",
      " 2   team_abbreviation  12305 non-null  object \n",
      " 3   age                12305 non-null  float64\n",
      " 4   player_height      12305 non-null  float64\n",
      " 5   player_weight      12305 non-null  float64\n",
      " 6   college            12305 non-null  object \n",
      " 7   country            12305 non-null  object \n",
      " 8   draft_year         12305 non-null  object \n",
      " 9   draft_round        12305 non-null  object \n",
      " 10  draft_number       12305 non-null  object \n",
      " 11  gp                 12305 non-null  int64  \n",
      " 12  pts                12305 non-null  float64\n",
      " 13  reb                12305 non-null  float64\n",
      " 14  ast                12305 non-null  float64\n",
      " 15  net_rating         12305 non-null  float64\n",
      " 16  oreb_pct           12305 non-null  float64\n",
      " 17  dreb_pct           12305 non-null  float64\n",
      " 18  usg_pct            12305 non-null  float64\n",
      " 19  ts_pct             12305 non-null  float64\n",
      " 20  ast_pct            12305 non-null  float64\n",
      " 21  season             12305 non-null  object \n",
      "dtypes: float64(12), int64(2), object(8)\n",
      "memory usage: 2.1+ MB\n"
     ]
    }
   ],
   "source": [
    "nba = pd.read_csv('all_seasons.csv')\n",
    "nba.head()\n",
    "nba.info()\n",
    "nba_df = pd.DataFrame(nba)"
   ]
  },
  {
   "cell_type": "code",
   "execution_count": 20,
   "id": "129ba856",
   "metadata": {},
   "outputs": [],
   "source": [
    "nba_df = nba_df.drop(['team_abbreviation'], axis= 1)\n",
    "nba_df = nba_df.drop(['college'], axis= 1)\n",
    "nba_df = nba_df.drop(['country'], axis= 1)\n",
    "nba_df = nba_df.drop(['season'], axis= 1)\n",
    "nba_df = nba_df.drop(['draft_year'], axis= 1)\n",
    "nba_df = nba_df.drop(['player_name']), axis = 1)"
   ]
  },
  {
   "cell_type": "code",
   "execution_count": 21,
   "id": "62a25d5d",
   "metadata": {},
   "outputs": [
    {
     "data": {
      "text/plain": [
       "array(['2', '1', '3', '4', '8', '6', '7', '0'], dtype=object)"
      ]
     },
     "execution_count": 21,
     "metadata": {},
     "output_type": "execute_result"
    }
   ],
   "source": [
    "nba_df = nba_df[nba_df['draft_round'] != 'Undrafted']\n",
    "nba_df['draft_round'].unique()"
   ]
  },
  {
   "cell_type": "code",
   "execution_count": 22,
   "id": "637f2c8e",
   "metadata": {},
   "outputs": [
    {
     "data": {
      "text/plain": [
       "array(['27', '24', '58', '9', '10', '29', '37', '38', '25', '13', '17',\n",
       "       '18', '21', '15', '43', '14', '23', '40', '4', '11', '47', '33',\n",
       "       '1', '8', '3', '19', '52', '42', '39', '6', '45', '30', '20', '48',\n",
       "       '5', '79', '2', '41', '46', '34', '12', '7', '22', '57', '26',\n",
       "       '35', '28', '49', '16', '32', '53', '36', '44', '165', '56', '75',\n",
       "       '51', '54', '127', '139', '31', '50', '124', '63', '69', '160',\n",
       "       '55', '120', '87', '66', '82', '60', '59', '78', '0'], dtype=object)"
      ]
     },
     "execution_count": 22,
     "metadata": {},
     "output_type": "execute_result"
    }
   ],
   "source": [
    "nba_df = nba_df[nba_df['draft_number'] != 'Undrafted']\n",
    "nba_df['draft_number'].unique()"
   ]
  },
  {
   "cell_type": "code",
   "execution_count": 23,
   "id": "0dd2b9de",
   "metadata": {},
   "outputs": [
    {
     "name": "stdout",
     "output_type": "stream",
     "text": [
      "<class 'pandas.core.frame.DataFrame'>\n",
      "Int64Index: 10028 entries, 0 to 12302\n",
      "Data columns (total 17 columns):\n",
      " #   Column         Non-Null Count  Dtype  \n",
      "---  ------         --------------  -----  \n",
      " 0   Unnamed: 0     10028 non-null  int64  \n",
      " 1   player_name    10028 non-null  object \n",
      " 2   age            10028 non-null  float64\n",
      " 3   player_height  10028 non-null  float64\n",
      " 4   player_weight  10028 non-null  float64\n",
      " 5   draft_round    10028 non-null  object \n",
      " 6   draft_number   10028 non-null  object \n",
      " 7   gp             10028 non-null  int64  \n",
      " 8   pts            10028 non-null  float64\n",
      " 9   reb            10028 non-null  float64\n",
      " 10  ast            10028 non-null  float64\n",
      " 11  net_rating     10028 non-null  float64\n",
      " 12  oreb_pct       10028 non-null  float64\n",
      " 13  dreb_pct       10028 non-null  float64\n",
      " 14  usg_pct        10028 non-null  float64\n",
      " 15  ts_pct         10028 non-null  float64\n",
      " 16  ast_pct        10028 non-null  float64\n",
      "dtypes: float64(12), int64(2), object(3)\n",
      "memory usage: 1.4+ MB\n"
     ]
    }
   ],
   "source": [
    "nba_df.info()"
   ]
  },
  {
   "cell_type": "code",
   "execution_count": 24,
   "id": "c72fa3de",
   "metadata": {},
   "outputs": [
    {
     "data": {
      "text/plain": [
       "count    10028.000000\n",
       "mean        27.092541\n",
       "std          4.480960\n",
       "min         18.000000\n",
       "25%         24.000000\n",
       "50%         26.000000\n",
       "75%         30.000000\n",
       "max         44.000000\n",
       "Name: age, dtype: float64"
      ]
     },
     "execution_count": 24,
     "metadata": {},
     "output_type": "execute_result"
    }
   ],
   "source": [
    "nba_df['age'].describe()"
   ]
  },
  {
   "cell_type": "code",
   "execution_count": 29,
   "id": "7695da17",
   "metadata": {},
   "outputs": [
    {
     "data": {
      "text/plain": [
       "0        (33, 36]\n",
       "1        (27, 30]\n",
       "2        (36, 39]\n",
       "3        (21, 24]\n",
       "4        (33, 36]\n",
       "           ...   \n",
       "12297    (21, 24]\n",
       "12299    (21, 24]\n",
       "12300    (30, 33]\n",
       "12301    (21, 24]\n",
       "12302    (27, 30]\n",
       "Name: age_bins, Length: 10028, dtype: category\n",
       "Categories (9, interval[int64, right]): [(18, 21] < (21, 24] < (24, 27] < (27, 30] ... (33, 36] < (36, 39] < (39, 42] < (42, 45]]"
      ]
     },
     "execution_count": 29,
     "metadata": {},
     "output_type": "execute_result"
    }
   ],
   "source": [
    "nba_df['age_bins'] = pd.cut(x = nba_df['age'], bins = [18, 21, 24, 27, 30, 33, 36, 39, 42 ,45])\n",
    "nba_df['age_bins']"
   ]
  },
  {
   "cell_type": "code",
   "execution_count": 33,
   "id": "088fc80b",
   "metadata": {},
   "outputs": [
    {
     "data": {
      "text/plain": [
       "count    10028.000000\n",
       "mean       201.285070\n",
       "std          8.941039\n",
       "min        160.020000\n",
       "25%        195.580000\n",
       "50%        203.200000\n",
       "75%        208.280000\n",
       "max        231.140000\n",
       "Name: player_height, dtype: float64"
      ]
     },
     "execution_count": 33,
     "metadata": {},
     "output_type": "execute_result"
    }
   ],
   "source": [
    "nba_df['player_height'].describe()"
   ]
  },
  {
   "cell_type": "code",
   "execution_count": 34,
   "id": "5f388d1a",
   "metadata": {},
   "outputs": [
    {
     "data": {
      "text/plain": [
       "0        (195.0, 200.0]\n",
       "1        (215.0, 220.0]\n",
       "2        (205.0, 210.0]\n",
       "3        (200.0, 205.0]\n",
       "4        (205.0, 210.0]\n",
       "              ...      \n",
       "12297    (205.0, 210.0]\n",
       "12299    (210.0, 215.0]\n",
       "12300    (205.0, 210.0]\n",
       "12301    (190.0, 195.0]\n",
       "12302    (190.0, 195.0]\n",
       "Name: height_bins, Length: 10028, dtype: category\n",
       "Categories (15, interval[float64, right]): [(159.999, 165.0] < (165.0, 170.0] < (170.0, 175.0] < (175.0, 180.0] ... (215.0, 220.0] < (220.0, 225.0] < (225.0, 230.0] < (230.0, 235.0]]"
      ]
     },
     "execution_count": 34,
     "metadata": {},
     "output_type": "execute_result"
    }
   ],
   "source": [
    "nba_df['height_bins'] = pd.cut(x=nba_df['player_height'], \n",
    "                               bins=range(160, 240, 5), \n",
    "                               include_lowest=True)\n",
    "nba_df['height_bins']"
   ]
  },
  {
   "cell_type": "code",
   "execution_count": 35,
   "id": "0ae8adf4",
   "metadata": {},
   "outputs": [
    {
     "data": {
      "text/plain": [
       "count    10028.000000\n",
       "mean       101.206787\n",
       "std         12.402737\n",
       "min         60.327736\n",
       "25%         92.872962\n",
       "50%        101.151016\n",
       "75%        110.222856\n",
       "max        155.582056\n",
       "Name: player_weight, dtype: float64"
      ]
     },
     "execution_count": 35,
     "metadata": {},
     "output_type": "execute_result"
    }
   ],
   "source": [
    "nba_df['player_weight'].describe()"
   ]
  },
  {
   "cell_type": "code",
   "execution_count": 37,
   "id": "c7b2ced5",
   "metadata": {},
   "outputs": [
    {
     "data": {
      "text/plain": [
       "0         (90.0, 100.0]\n",
       "1        (110.0, 120.0]\n",
       "2         (90.0, 100.0]\n",
       "3        (100.0, 110.0]\n",
       "4        (100.0, 110.0]\n",
       "              ...      \n",
       "12297    (100.0, 110.0]\n",
       "12299     (90.0, 100.0]\n",
       "12300    (110.0, 120.0]\n",
       "12301     (90.0, 100.0]\n",
       "12302     (90.0, 100.0]\n",
       "Name: weight_bins, Length: 10028, dtype: category\n",
       "Categories (9, interval[float64, right]): [(59.999, 70.0] < (70.0, 80.0] < (80.0, 90.0] < (90.0, 100.0] ... (110.0, 120.0] < (120.0, 130.0] < (130.0, 140.0] < (140.0, 150.0]]"
      ]
     },
     "execution_count": 37,
     "metadata": {},
     "output_type": "execute_result"
    }
   ],
   "source": [
    "nba_df['weight_bins'] = pd.cut(x=nba_df['player_weight'], \n",
    "                               bins=range(60, 155, 10), \n",
    "                               include_lowest=True)\n",
    "nba_df['weight_bins']"
   ]
  },
  {
   "cell_type": "code",
   "execution_count": 42,
   "id": "4e656ee2",
   "metadata": {},
   "outputs": [],
   "source": [
    "nba_df['dreb_pct'] = nba_df['dreb_pct'] * 100\n",
    "nba_df['oreb_pct'] = nba_df['oreb_pct'] * 100\n",
    "nba_df['usg_pct'] = nba_df['usg_pct'] * 100\n",
    "nba_df['ts_pct'] = nba_df['ts_pct'] * 100\n",
    "nba_df['ast_pct'] = nba_df['ast_pct'] * 100"
   ]
  },
  {
   "cell_type": "code",
   "execution_count": 43,
   "id": "5d22a16f",
   "metadata": {},
   "outputs": [
    {
     "data": {
      "text/plain": [
       "count    12305.000000\n",
       "mean        14.101406\n",
       "std          6.270416\n",
       "min          0.000000\n",
       "25%          9.600000\n",
       "50%         13.100000\n",
       "75%         18.000000\n",
       "max        100.000000\n",
       "Name: dreb_pct, dtype: float64"
      ]
     },
     "execution_count": 43,
     "metadata": {},
     "output_type": "execute_result"
    }
   ],
   "source": [
    "nba_df['dreb_pct'].describe()"
   ]
  },
  {
   "cell_type": "code",
   "execution_count": 44,
   "id": "d65e02f5",
   "metadata": {},
   "outputs": [
    {
     "data": {
      "text/plain": [
       "count    12305.000000\n",
       "mean         8.172775\n",
       "std          5.974957\n",
       "min          0.000000\n",
       "25%          3.600000\n",
       "50%          6.700000\n",
       "75%         11.500000\n",
       "max         36.100000\n",
       "Name: pts, dtype: float64"
      ]
     },
     "execution_count": 44,
     "metadata": {},
     "output_type": "execute_result"
    }
   ],
   "source": [
    "nba_df['pts'].describe()"
   ]
  },
  {
   "cell_type": "code",
   "execution_count": 45,
   "id": "ae009de9",
   "metadata": {},
   "outputs": [
    {
     "data": {
      "text/plain": [
       "count    12305.000000\n",
       "mean         3.559155\n",
       "std          2.483550\n",
       "min          0.000000\n",
       "25%          1.800000\n",
       "50%          3.000000\n",
       "75%          4.700000\n",
       "max         16.300000\n",
       "Name: reb, dtype: float64"
      ]
     },
     "execution_count": 45,
     "metadata": {},
     "output_type": "execute_result"
    }
   ],
   "source": [
    "nba_df['reb'].describe()"
   ]
  },
  {
   "cell_type": "code",
   "execution_count": 46,
   "id": "bc14238f",
   "metadata": {},
   "outputs": [
    {
     "data": {
      "text/plain": [
       "count    12305.000000\n",
       "mean         1.813986\n",
       "std          1.794155\n",
       "min          0.000000\n",
       "25%          0.600000\n",
       "50%          1.200000\n",
       "75%          2.400000\n",
       "max         11.700000\n",
       "Name: ast, dtype: float64"
      ]
     },
     "execution_count": 46,
     "metadata": {},
     "output_type": "execute_result"
    }
   ],
   "source": [
    "nba_df['ast'].describe()"
   ]
  },
  {
   "cell_type": "code",
   "execution_count": null,
   "id": "f9c9ac74",
   "metadata": {},
   "outputs": [],
   "source": []
  }
 ],
 "metadata": {
  "kernelspec": {
   "display_name": "Python 3 (ipykernel)",
   "language": "python",
   "name": "python3"
  },
  "language_info": {
   "codemirror_mode": {
    "name": "ipython",
    "version": 3
   },
   "file_extension": ".py",
   "mimetype": "text/x-python",
   "name": "python",
   "nbconvert_exporter": "python",
   "pygments_lexer": "ipython3",
   "version": "3.9.13"
  }
 },
 "nbformat": 4,
 "nbformat_minor": 5
}
