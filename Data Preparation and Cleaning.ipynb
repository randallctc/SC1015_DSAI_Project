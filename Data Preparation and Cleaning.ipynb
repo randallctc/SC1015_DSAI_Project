{
 "cells": [
  {
   "cell_type": "markdown",
   "id": "91a0d38b",
   "metadata": {},
   "source": [
    "Problem Statement: How does mental health awareness in a workplace affect openess of mental health issues?"
   ]
  },
  {
   "cell_type": "code",
   "execution_count": 39,
   "id": "83e6396c",
   "metadata": {},
   "outputs": [],
   "source": [
    "# Basic Libraries\n",
    "import numpy as np\n",
    "import pandas as pd"
   ]
  },
  {
   "cell_type": "code",
   "execution_count": 17,
   "id": "e926f7e9",
   "metadata": {},
   "outputs": [
    {
     "data": {
      "text/html": [
       "<div>\n",
       "<style scoped>\n",
       "    .dataframe tbody tr th:only-of-type {\n",
       "        vertical-align: middle;\n",
       "    }\n",
       "\n",
       "    .dataframe tbody tr th {\n",
       "        vertical-align: top;\n",
       "    }\n",
       "\n",
       "    .dataframe thead th {\n",
       "        text-align: right;\n",
       "    }\n",
       "</style>\n",
       "<table border=\"1\" class=\"dataframe\">\n",
       "  <thead>\n",
       "    <tr style=\"text-align: right;\">\n",
       "      <th></th>\n",
       "      <th>Timestamp</th>\n",
       "      <th>Age</th>\n",
       "      <th>Gender</th>\n",
       "      <th>Country</th>\n",
       "      <th>state</th>\n",
       "      <th>self_employed</th>\n",
       "      <th>family_history</th>\n",
       "      <th>treatment</th>\n",
       "      <th>work_interfere</th>\n",
       "      <th>no_employees</th>\n",
       "      <th>...</th>\n",
       "      <th>leave</th>\n",
       "      <th>mental_health_consequence</th>\n",
       "      <th>phys_health_consequence</th>\n",
       "      <th>coworkers</th>\n",
       "      <th>supervisor</th>\n",
       "      <th>mental_health_interview</th>\n",
       "      <th>phys_health_interview</th>\n",
       "      <th>mental_vs_physical</th>\n",
       "      <th>obs_consequence</th>\n",
       "      <th>comments</th>\n",
       "    </tr>\n",
       "  </thead>\n",
       "  <tbody>\n",
       "    <tr>\n",
       "      <th>0</th>\n",
       "      <td>2014-08-27 11:29:31</td>\n",
       "      <td>37</td>\n",
       "      <td>Female</td>\n",
       "      <td>United States</td>\n",
       "      <td>IL</td>\n",
       "      <td>NaN</td>\n",
       "      <td>No</td>\n",
       "      <td>Yes</td>\n",
       "      <td>Often</td>\n",
       "      <td>6-25</td>\n",
       "      <td>...</td>\n",
       "      <td>Somewhat easy</td>\n",
       "      <td>No</td>\n",
       "      <td>No</td>\n",
       "      <td>Some of them</td>\n",
       "      <td>Yes</td>\n",
       "      <td>No</td>\n",
       "      <td>Maybe</td>\n",
       "      <td>Yes</td>\n",
       "      <td>No</td>\n",
       "      <td>NaN</td>\n",
       "    </tr>\n",
       "    <tr>\n",
       "      <th>1</th>\n",
       "      <td>2014-08-27 11:29:37</td>\n",
       "      <td>44</td>\n",
       "      <td>M</td>\n",
       "      <td>United States</td>\n",
       "      <td>IN</td>\n",
       "      <td>NaN</td>\n",
       "      <td>No</td>\n",
       "      <td>No</td>\n",
       "      <td>Rarely</td>\n",
       "      <td>More than 1000</td>\n",
       "      <td>...</td>\n",
       "      <td>Don't know</td>\n",
       "      <td>Maybe</td>\n",
       "      <td>No</td>\n",
       "      <td>No</td>\n",
       "      <td>No</td>\n",
       "      <td>No</td>\n",
       "      <td>No</td>\n",
       "      <td>Don't know</td>\n",
       "      <td>No</td>\n",
       "      <td>NaN</td>\n",
       "    </tr>\n",
       "    <tr>\n",
       "      <th>2</th>\n",
       "      <td>2014-08-27 11:29:44</td>\n",
       "      <td>32</td>\n",
       "      <td>Male</td>\n",
       "      <td>Canada</td>\n",
       "      <td>NaN</td>\n",
       "      <td>NaN</td>\n",
       "      <td>No</td>\n",
       "      <td>No</td>\n",
       "      <td>Rarely</td>\n",
       "      <td>6-25</td>\n",
       "      <td>...</td>\n",
       "      <td>Somewhat difficult</td>\n",
       "      <td>No</td>\n",
       "      <td>No</td>\n",
       "      <td>Yes</td>\n",
       "      <td>Yes</td>\n",
       "      <td>Yes</td>\n",
       "      <td>Yes</td>\n",
       "      <td>No</td>\n",
       "      <td>No</td>\n",
       "      <td>NaN</td>\n",
       "    </tr>\n",
       "    <tr>\n",
       "      <th>3</th>\n",
       "      <td>2014-08-27 11:29:46</td>\n",
       "      <td>31</td>\n",
       "      <td>Male</td>\n",
       "      <td>United Kingdom</td>\n",
       "      <td>NaN</td>\n",
       "      <td>NaN</td>\n",
       "      <td>Yes</td>\n",
       "      <td>Yes</td>\n",
       "      <td>Often</td>\n",
       "      <td>26-100</td>\n",
       "      <td>...</td>\n",
       "      <td>Somewhat difficult</td>\n",
       "      <td>Yes</td>\n",
       "      <td>Yes</td>\n",
       "      <td>Some of them</td>\n",
       "      <td>No</td>\n",
       "      <td>Maybe</td>\n",
       "      <td>Maybe</td>\n",
       "      <td>No</td>\n",
       "      <td>Yes</td>\n",
       "      <td>NaN</td>\n",
       "    </tr>\n",
       "    <tr>\n",
       "      <th>4</th>\n",
       "      <td>2014-08-27 11:30:22</td>\n",
       "      <td>31</td>\n",
       "      <td>Male</td>\n",
       "      <td>United States</td>\n",
       "      <td>TX</td>\n",
       "      <td>NaN</td>\n",
       "      <td>No</td>\n",
       "      <td>No</td>\n",
       "      <td>Never</td>\n",
       "      <td>100-500</td>\n",
       "      <td>...</td>\n",
       "      <td>Don't know</td>\n",
       "      <td>No</td>\n",
       "      <td>No</td>\n",
       "      <td>Some of them</td>\n",
       "      <td>Yes</td>\n",
       "      <td>Yes</td>\n",
       "      <td>Yes</td>\n",
       "      <td>Don't know</td>\n",
       "      <td>No</td>\n",
       "      <td>NaN</td>\n",
       "    </tr>\n",
       "  </tbody>\n",
       "</table>\n",
       "<p>5 rows × 27 columns</p>\n",
       "</div>"
      ],
      "text/plain": [
       "             Timestamp  Age  Gender         Country state self_employed  \\\n",
       "0  2014-08-27 11:29:31   37  Female   United States    IL           NaN   \n",
       "1  2014-08-27 11:29:37   44       M   United States    IN           NaN   \n",
       "2  2014-08-27 11:29:44   32    Male          Canada   NaN           NaN   \n",
       "3  2014-08-27 11:29:46   31    Male  United Kingdom   NaN           NaN   \n",
       "4  2014-08-27 11:30:22   31    Male   United States    TX           NaN   \n",
       "\n",
       "  family_history treatment work_interfere    no_employees  ...  \\\n",
       "0             No       Yes          Often            6-25  ...   \n",
       "1             No        No         Rarely  More than 1000  ...   \n",
       "2             No        No         Rarely            6-25  ...   \n",
       "3            Yes       Yes          Often          26-100  ...   \n",
       "4             No        No          Never         100-500  ...   \n",
       "\n",
       "                leave mental_health_consequence phys_health_consequence  \\\n",
       "0       Somewhat easy                        No                      No   \n",
       "1          Don't know                     Maybe                      No   \n",
       "2  Somewhat difficult                        No                      No   \n",
       "3  Somewhat difficult                       Yes                     Yes   \n",
       "4          Don't know                        No                      No   \n",
       "\n",
       "      coworkers supervisor mental_health_interview phys_health_interview  \\\n",
       "0  Some of them        Yes                      No                 Maybe   \n",
       "1            No         No                      No                    No   \n",
       "2           Yes        Yes                     Yes                   Yes   \n",
       "3  Some of them         No                   Maybe                 Maybe   \n",
       "4  Some of them        Yes                     Yes                   Yes   \n",
       "\n",
       "  mental_vs_physical obs_consequence comments  \n",
       "0                Yes              No      NaN  \n",
       "1         Don't know              No      NaN  \n",
       "2                 No              No      NaN  \n",
       "3                 No             Yes      NaN  \n",
       "4         Don't know              No      NaN  \n",
       "\n",
       "[5 rows x 27 columns]"
      ]
     },
     "execution_count": 17,
     "metadata": {},
     "output_type": "execute_result"
    }
   ],
   "source": [
    "mentalhealth = pd.read_csv('survey.csv')\n",
    "mentalhealth.head()"
   ]
  },
  {
   "cell_type": "markdown",
   "id": "2af16e14",
   "metadata": {},
   "source": [
    "Removal of categories that doesn't relate to our problem statement."
   ]
  },
  {
   "cell_type": "code",
   "execution_count": 36,
   "id": "e662d163",
   "metadata": {},
   "outputs": [],
   "source": [
    "mentalhealth_df = pd.DataFrame(mentalhealth)\n",
    "mentalhealth_df = mentalhealth_df.drop(['Timestamp'], axis= 1)\n",
    "mentalhealth_df = mentalhealth_df.drop(['Country'], axis= 1)\n",
    "mentalhealth_df = mentalhealth_df.drop(['state'], axis= 1)\n",
    "mentalhealth_df = mentalhealth_df.drop(['self_employed'], axis= 1)\n",
    "mentalhealth_df = mentalhealth_df.drop(['no_employees'], axis= 1)\n",
    "mentalhealth_df = mentalhealth_df.drop(['tech_company'], axis= 1)\n",
    "mentalhealth_df = mentalhealth_df.drop(['comments'], axis= 1)\n",
    "mentalhealth_df = mentalhealth_df.drop(['phys_health_interview'], axis = 1)\n",
    "mentalhealth_df = mentalhealth_df.drop(['phys_health_consequence'], axis = 1)"
   ]
  },
  {
   "cell_type": "markdown",
   "id": "e41cdd91",
   "metadata": {},
   "source": [
    "Cleaning of data\n",
    "\n",
    "For majority of the data, we feel that most of the data do not need any cleaning for us to proceed but still used the unique function to double check for any outliers. For 'Age' and 'Gender' however, as this was an open survey, there are many answers that were unfitting to the question. We also decided to limit the age to 18 and above as that is the minimum legal working age and fitted non-binary genders under others to limit the number of categories."
   ]
  },
  {
   "cell_type": "code",
   "execution_count": 19,
   "id": "ef349d6e",
   "metadata": {},
   "outputs": [
    {
     "data": {
      "text/plain": [
       "array([37, 44, 32, 31, 33, 35, 39, 42, 23, 29, 36, 27, 46, 41, 34, 30, 40,\n",
       "       38, 50, 24, 18, 28, 26, 22, 19, 25, 45, 21, 43, 56, 60, 54, 55, 48,\n",
       "       20, 57, 58, 47, 62, 51, 65, 49, 53, 61, 72], dtype=int64)"
      ]
     },
     "execution_count": 19,
     "metadata": {},
     "output_type": "execute_result"
    }
   ],
   "source": [
    "mentalhealth_df.drop(mentalhealth_df[mentalhealth_df['Age'] < 18].index, inplace = True) \n",
    "mentalhealth_df.drop(mentalhealth_df[mentalhealth_df['Age'] > 100].index, inplace = True)\n",
    "mentalhealth_df['Age'].unique()"
   ]
  },
  {
   "cell_type": "code",
   "execution_count": 20,
   "id": "ed59c1d6",
   "metadata": {},
   "outputs": [
    {
     "data": {
      "text/plain": [
       "Male      986\n",
       "Female    247\n",
       "Other      18\n",
       "Name: Gender, dtype: int64"
      ]
     },
     "execution_count": 20,
     "metadata": {},
     "output_type": "execute_result"
    }
   ],
   "source": [
    "mentalhealth_df['Gender'].replace(['Male ', 'male', 'M', 'm', 'Male', 'Cis Male',\n",
    "                     'Man', 'cis male', 'Mail', 'Male-ish', 'Male (CIS)',\n",
    "                      'Cis Man', 'msle', 'Malr', 'Mal', 'maile', 'Make',], 'Male', inplace = True)\n",
    "\n",
    "mentalhealth_df['Gender'].replace(['Female ', 'female', 'F', 'f', 'Woman', 'Female',\n",
    "                     'femail', 'Cis Female', 'cis-female/femme', 'Femake', 'Female (cis)',\n",
    "                     'woman',], 'Female', inplace = True)\n",
    "\n",
    "mentalhealth_df[\"Gender\"].replace(['Female (trans)', 'queer/she/they', 'non-binary',\n",
    "                     'fluid', 'queer', 'Androgyne', 'Trans-female', 'male leaning androgynous',\n",
    "                      'Agender', 'A little about you', 'Nah', 'All',\n",
    "                      'ostensibly male, unsure what that really means',\n",
    "                      'Genderqueer', 'Enby', 'p', 'Neuter', 'something kinda male?',\n",
    "                      'Guy (-ish) ^_^', 'Trans woman',], 'Other', inplace = True)\n",
    "\n",
    "mentalhealth_df['Gender'].value_counts()"
   ]
  },
  {
   "cell_type": "code",
   "execution_count": 21,
   "id": "b65c2a14",
   "metadata": {},
   "outputs": [
    {
     "data": {
      "text/plain": [
       "array(['Often', 'Rarely', 'Never', 'Sometimes', nan], dtype=object)"
      ]
     },
     "execution_count": 21,
     "metadata": {},
     "output_type": "execute_result"
    }
   ],
   "source": [
    "mentalhealth_df['work_interfere'] = mentalhealth_df['work_interfere'].replace(['NaN'], 'Don\\'t know' )\n",
    "mentalhealth_df['work_interfere'].unique()"
   ]
  },
  {
   "cell_type": "code",
   "execution_count": 22,
   "id": "5fec766c",
   "metadata": {},
   "outputs": [
    {
     "data": {
      "text/plain": [
       "array(['Yes', \"Don't know\", 'No'], dtype=object)"
      ]
     },
     "execution_count": 22,
     "metadata": {},
     "output_type": "execute_result"
    }
   ],
   "source": [
    "mentalhealth_df['benefits'].unique()"
   ]
  },
  {
   "cell_type": "code",
   "execution_count": 23,
   "id": "1720fd8f",
   "metadata": {},
   "outputs": [
    {
     "data": {
      "text/plain": [
       "array(['Not sure', 'No', 'Yes'], dtype=object)"
      ]
     },
     "execution_count": 23,
     "metadata": {},
     "output_type": "execute_result"
    }
   ],
   "source": [
    "mentalhealth_df['care_options'].unique()"
   ]
  },
  {
   "cell_type": "code",
   "execution_count": 24,
   "id": "fc779cca",
   "metadata": {},
   "outputs": [
    {
     "data": {
      "text/plain": [
       "array(['No', \"Don't know\", 'Yes'], dtype=object)"
      ]
     },
     "execution_count": 24,
     "metadata": {},
     "output_type": "execute_result"
    }
   ],
   "source": [
    "mentalhealth_df['wellness_program'].unique()"
   ]
  },
  {
   "cell_type": "code",
   "execution_count": 25,
   "id": "bda14a38",
   "metadata": {},
   "outputs": [
    {
     "data": {
      "text/plain": [
       "array(['Yes', \"Don't know\", 'No'], dtype=object)"
      ]
     },
     "execution_count": 25,
     "metadata": {},
     "output_type": "execute_result"
    }
   ],
   "source": [
    "mentalhealth_df['seek_help'].unique()"
   ]
  },
  {
   "cell_type": "code",
   "execution_count": 26,
   "id": "757d3633",
   "metadata": {},
   "outputs": [
    {
     "data": {
      "text/plain": [
       "array(['Yes', \"Don't know\", 'No'], dtype=object)"
      ]
     },
     "execution_count": 26,
     "metadata": {},
     "output_type": "execute_result"
    }
   ],
   "source": [
    "mentalhealth_df['anonymity'].unique()"
   ]
  },
  {
   "cell_type": "code",
   "execution_count": 27,
   "id": "68044960",
   "metadata": {},
   "outputs": [
    {
     "data": {
      "text/plain": [
       "array(['Somewhat easy', \"Don't know\", 'Somewhat difficult',\n",
       "       'Very difficult', 'Very easy'], dtype=object)"
      ]
     },
     "execution_count": 27,
     "metadata": {},
     "output_type": "execute_result"
    }
   ],
   "source": [
    "mentalhealth_df['leave'].unique()"
   ]
  },
  {
   "cell_type": "code",
   "execution_count": 28,
   "id": "f893040b",
   "metadata": {},
   "outputs": [
    {
     "data": {
      "text/plain": [
       "array(['No', 'Maybe', 'Yes'], dtype=object)"
      ]
     },
     "execution_count": 28,
     "metadata": {},
     "output_type": "execute_result"
    }
   ],
   "source": [
    "mentalhealth_df['mental_health_consequence'].unique()"
   ]
  },
  {
   "cell_type": "code",
   "execution_count": 29,
   "id": "41708dc0",
   "metadata": {},
   "outputs": [
    {
     "data": {
      "text/plain": [
       "array(['No', 'Yes', 'Maybe'], dtype=object)"
      ]
     },
     "execution_count": 29,
     "metadata": {},
     "output_type": "execute_result"
    }
   ],
   "source": [
    "mentalhealth_df['phys_health_consequence'].unique()"
   ]
  },
  {
   "cell_type": "code",
   "execution_count": 34,
   "id": "14ea7b23",
   "metadata": {},
   "outputs": [
    {
     "data": {
      "text/plain": [
       "array(['No', 'Yes', 'Maybe'], dtype=object)"
      ]
     },
     "execution_count": 34,
     "metadata": {},
     "output_type": "execute_result"
    }
   ],
   "source": [
    "mentalhealth_df['mental_health_interview'].unique()"
   ]
  },
  {
   "cell_type": "code",
   "execution_count": 37,
   "id": "2d0bc0a6",
   "metadata": {},
   "outputs": [
    {
     "data": {
      "text/plain": [
       "array(['Yes', \"Don't know\", 'No'], dtype=object)"
      ]
     },
     "execution_count": 37,
     "metadata": {},
     "output_type": "execute_result"
    }
   ],
   "source": [
    "mentalhealth_df['mental_vs_physical'].unique()"
   ]
  },
  {
   "cell_type": "code",
   "execution_count": 38,
   "id": "4b0589b3",
   "metadata": {},
   "outputs": [
    {
     "data": {
      "text/plain": [
       "array(['No', 'Yes'], dtype=object)"
      ]
     },
     "execution_count": 38,
     "metadata": {},
     "output_type": "execute_result"
    }
   ],
   "source": [
    "mentalhealth_df['obs_consequence'].unique()"
   ]
  },
  {
   "cell_type": "markdown",
   "id": "41f6bc96",
   "metadata": {},
   "source": [
    "For categories 'coworker' and 'supervisor', we decided to replace 'Some of them' as 'Yes' as in our context they essentially mean the same thing."
   ]
  },
  {
   "cell_type": "code",
   "execution_count": 32,
   "id": "15ef541e",
   "metadata": {},
   "outputs": [
    {
     "data": {
      "text/plain": [
       "array(['Yes', 'No'], dtype=object)"
      ]
     },
     "execution_count": 32,
     "metadata": {},
     "output_type": "execute_result"
    }
   ],
   "source": [
    "mentalhealth_df['coworkers'] = mentalhealth_df['coworkers'].replace(['Some of them'], 'Yes' )\n",
    "mentalhealth_df['coworkers'].unique()"
   ]
  },
  {
   "cell_type": "code",
   "execution_count": 33,
   "id": "21f01284",
   "metadata": {},
   "outputs": [
    {
     "data": {
      "text/plain": [
       "array(['Yes', 'No'], dtype=object)"
      ]
     },
     "execution_count": 33,
     "metadata": {},
     "output_type": "execute_result"
    }
   ],
   "source": [
    "mentalhealth_df['supervisor'] = mentalhealth_df['supervisor'].replace(['Some of them'], 'Yes' )\n",
    "mentalhealth_df['supervisor'].unique()"
   ]
  },
  {
   "cell_type": "code",
   "execution_count": null,
   "id": "a5a960b4",
   "metadata": {},
   "outputs": [],
   "source": []
  }
 ],
 "metadata": {
  "kernelspec": {
   "display_name": "Python 3 (ipykernel)",
   "language": "python",
   "name": "python3"
  },
  "language_info": {
   "codemirror_mode": {
    "name": "ipython",
    "version": 3
   },
   "file_extension": ".py",
   "mimetype": "text/x-python",
   "name": "python",
   "nbconvert_exporter": "python",
   "pygments_lexer": "ipython3",
   "version": "3.9.13"
  }
 },
 "nbformat": 4,
 "nbformat_minor": 5
}
