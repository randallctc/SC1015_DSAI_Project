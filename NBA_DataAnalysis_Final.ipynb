{
 "cells": [
  {
   "cell_type": "code",
   "execution_count": 1,
   "id": "f4bc55e9",
   "metadata": {},
   "outputs": [],
   "source": [
    "import numpy as np\n",
    "import pandas as pd\n",
    "import seaborn as sb\n",
    "import matplotlib.pyplot as plt # we only need pyplot\n",
    "sb.set() # set the default Seaborn style for graphics\n",
    "from sklearn.model_selection import train_test_split\n",
    "from sklearn.feature_selection import mutual_info_regression\n",
    "from sklearn.feature_selection import SelectKBest, f_regression\n",
    "from sklearn.tree import DecisionTreeRegressor\n",
    "from sklearn.model_selection import train_test_split\n",
    "from sklearn.metrics import confusion_matrix\n",
    "from sklearn.tree import plot_tree\n",
    "from sklearn.metrics import mean_absolute_error, mean_squared_error, r2_score\n",
    "from sklearn.model_selection import cross_val_score\n",
    "from sklearn.model_selection import cross_validate"
   ]
  },
  {
   "cell_type": "markdown",
   "id": "847efcac",
   "metadata": {},
   "source": [
    "# Data Cleaning and Preparation"
   ]
  },
  {
   "cell_type": "code",
   "execution_count": 2,
   "id": "d71872b7",
   "metadata": {},
   "outputs": [
    {
     "name": "stdout",
     "output_type": "stream",
     "text": [
      "<class 'pandas.core.frame.DataFrame'>\n",
      "RangeIndex: 12305 entries, 0 to 12304\n",
      "Data columns (total 22 columns):\n",
      " #   Column             Non-Null Count  Dtype  \n",
      "---  ------             --------------  -----  \n",
      " 0   Unnamed: 0         12305 non-null  int64  \n",
      " 1   player_name        12305 non-null  object \n",
      " 2   team_abbreviation  12305 non-null  object \n",
      " 3   age                12305 non-null  float64\n",
      " 4   player_height      12305 non-null  float64\n",
      " 5   player_weight      12305 non-null  float64\n",
      " 6   college            12305 non-null  object \n",
      " 7   country            12305 non-null  object \n",
      " 8   draft_year         12305 non-null  object \n",
      " 9   draft_round        12305 non-null  object \n",
      " 10  draft_number       12305 non-null  object \n",
      " 11  gp                 12305 non-null  int64  \n",
      " 12  pts                12305 non-null  float64\n",
      " 13  reb                12305 non-null  float64\n",
      " 14  ast                12305 non-null  float64\n",
      " 15  net_rating         12305 non-null  float64\n",
      " 16  oreb_pct           12305 non-null  float64\n",
      " 17  dreb_pct           12305 non-null  float64\n",
      " 18  usg_pct            12305 non-null  float64\n",
      " 19  ts_pct             12305 non-null  float64\n",
      " 20  ast_pct            12305 non-null  float64\n",
      " 21  season             12305 non-null  object \n",
      "dtypes: float64(12), int64(2), object(8)\n",
      "memory usage: 2.1+ MB\n"
     ]
    }
   ],
   "source": [
    "nba = pd.read_csv('all_seasons.csv')\n",
    "nba.head()\n",
    "nba.info()\n",
    "nba_df = pd.DataFrame(nba)"
   ]
  },
  {
   "cell_type": "code",
   "execution_count": 3,
   "id": "129ba856",
   "metadata": {},
   "outputs": [],
   "source": [
    "nba_df = nba_df.drop(['team_abbreviation'], axis= 1)\n",
    "nba_df = nba_df.drop(['college'], axis= 1)\n",
    "nba_df = nba_df.drop(['country'], axis= 1)\n",
    "nba_df = nba_df.drop(['season'], axis= 1)\n",
    "nba_df = nba_df.drop(['draft_year'], axis= 1)\n",
    "nba_df = nba_df.drop(['player_name'], axis = 1)\n",
    "nba_df = nba_df.drop(['Unnamed: 0'], axis = 1)"
   ]
  },
  {
   "cell_type": "code",
   "execution_count": 4,
   "id": "62a25d5d",
   "metadata": {},
   "outputs": [
    {
     "data": {
      "text/plain": [
       "array([2., 1., 3., 4., 8., 6., 7., 0.])"
      ]
     },
     "execution_count": 4,
     "metadata": {},
     "output_type": "execute_result"
    }
   ],
   "source": [
    "nba_df = nba_df[nba_df['draft_round'] != 'Undrafted']\n",
    "nba_df['draft_round'] = nba_df['draft_round'].astype(float)\n",
    "nba_df['draft_round'].unique()"
   ]
  },
  {
   "cell_type": "code",
   "execution_count": 5,
   "id": "637f2c8e",
   "metadata": {},
   "outputs": [
    {
     "data": {
      "text/plain": [
       "array([ 27.,  24.,  58.,   9.,  10.,  29.,  37.,  38.,  25.,  13.,  17.,\n",
       "        18.,  21.,  15.,  43.,  14.,  23.,  40.,   4.,  11.,  47.,  33.,\n",
       "         1.,   8.,   3.,  19.,  52.,  42.,  39.,   6.,  45.,  30.,  20.,\n",
       "        48.,   5.,  79.,   2.,  41.,  46.,  34.,  12.,   7.,  22.,  57.,\n",
       "        26.,  35.,  28.,  49.,  16.,  32.,  53.,  36.,  44., 165.,  56.,\n",
       "        75.,  51.,  54., 127., 139.,  31.,  50., 124.,  63.,  69., 160.,\n",
       "        55., 120.,  87.,  66.,  82.,  60.,  59.,  78.,   0.])"
      ]
     },
     "execution_count": 5,
     "metadata": {},
     "output_type": "execute_result"
    }
   ],
   "source": [
    "nba_df = nba_df[nba_df['draft_number'] != 'Undrafted']\n",
    "nba_df['draft_number'] = nba_df['draft_number'].astype(float)\n",
    "nba_df['draft_number'].unique()"
   ]
  },
  {
   "cell_type": "code",
   "execution_count": 6,
   "id": "0dd2b9de",
   "metadata": {},
   "outputs": [
    {
     "name": "stdout",
     "output_type": "stream",
     "text": [
      "<class 'pandas.core.frame.DataFrame'>\n",
      "Int64Index: 10028 entries, 0 to 12302\n",
      "Data columns (total 15 columns):\n",
      " #   Column         Non-Null Count  Dtype  \n",
      "---  ------         --------------  -----  \n",
      " 0   age            10028 non-null  float64\n",
      " 1   player_height  10028 non-null  float64\n",
      " 2   player_weight  10028 non-null  float64\n",
      " 3   draft_round    10028 non-null  float64\n",
      " 4   draft_number   10028 non-null  float64\n",
      " 5   gp             10028 non-null  int64  \n",
      " 6   pts            10028 non-null  float64\n",
      " 7   reb            10028 non-null  float64\n",
      " 8   ast            10028 non-null  float64\n",
      " 9   net_rating     10028 non-null  float64\n",
      " 10  oreb_pct       10028 non-null  float64\n",
      " 11  dreb_pct       10028 non-null  float64\n",
      " 12  usg_pct        10028 non-null  float64\n",
      " 13  ts_pct         10028 non-null  float64\n",
      " 14  ast_pct        10028 non-null  float64\n",
      "dtypes: float64(14), int64(1)\n",
      "memory usage: 1.2 MB\n"
     ]
    }
   ],
   "source": [
    "nba_df.info()"
   ]
  },
  {
   "cell_type": "code",
   "execution_count": 7,
   "id": "c72fa3de",
   "metadata": {},
   "outputs": [
    {
     "data": {
      "text/plain": [
       "count    10028.000000\n",
       "mean        27.092541\n",
       "std          4.480960\n",
       "min         18.000000\n",
       "25%         24.000000\n",
       "50%         26.000000\n",
       "75%         30.000000\n",
       "max         44.000000\n",
       "Name: age, dtype: float64"
      ]
     },
     "execution_count": 7,
     "metadata": {},
     "output_type": "execute_result"
    }
   ],
   "source": [
    "nba_df['age'].describe()"
   ]
  },
  {
   "cell_type": "code",
   "execution_count": 8,
   "id": "7695da17",
   "metadata": {},
   "outputs": [
    {
     "data": {
      "text/plain": [
       "0        34.5\n",
       "1        28.5\n",
       "2        37.5\n",
       "3        22.5\n",
       "4        34.5\n",
       "         ... \n",
       "12297    22.5\n",
       "12299    22.5\n",
       "12300    31.5\n",
       "12301    22.5\n",
       "12302    28.5\n",
       "Name: age_bins, Length: 10028, dtype: float64"
      ]
     },
     "execution_count": 8,
     "metadata": {},
     "output_type": "execute_result"
    }
   ],
   "source": [
    "label= [16.5, 19.5, 22.5, 25.5, 28.5, 31.5, 34.5, 37.5, 40.5, 43.5, 46.5]\n",
    "nba_df['age_bins'] = pd.cut(x = nba_df['age'], bins = [15, 18, 21, 24, 27, 30, 33, 36, 39, 42 , 45, 48], labels = label)\n",
    "nba_df['age_bins'] = nba_df['age_bins'].astype(float)\n",
    "nba_df['age_bins']"
   ]
  },
  {
   "cell_type": "code",
   "execution_count": 9,
   "id": "088fc80b",
   "metadata": {},
   "outputs": [
    {
     "data": {
      "text/plain": [
       "count    10028.000000\n",
       "mean       201.285070\n",
       "std          8.941039\n",
       "min        160.020000\n",
       "25%        195.580000\n",
       "50%        203.200000\n",
       "75%        208.280000\n",
       "max        231.140000\n",
       "Name: player_height, dtype: float64"
      ]
     },
     "execution_count": 9,
     "metadata": {},
     "output_type": "execute_result"
    }
   ],
   "source": [
    "nba_df['player_height'].describe()"
   ]
  },
  {
   "cell_type": "code",
   "execution_count": 10,
   "id": "5f388d1a",
   "metadata": {},
   "outputs": [
    {
     "data": {
      "text/plain": [
       "0        197.5\n",
       "1        217.5\n",
       "2        207.5\n",
       "3        202.5\n",
       "4        207.5\n",
       "         ...  \n",
       "12297    207.5\n",
       "12299    212.5\n",
       "12300    207.5\n",
       "12301    192.5\n",
       "12302    192.5\n",
       "Name: height_bins, Length: 10028, dtype: float64"
      ]
     },
     "execution_count": 10,
     "metadata": {},
     "output_type": "execute_result"
    }
   ],
   "source": [
    "label = np.arange(162.5, 237.5, 5.0)\n",
    "nba_df['height_bins'] = pd.cut(x=nba_df['player_height'], \n",
    "                               bins=range(160, 240, 5), \n",
    "                               include_lowest=True,\n",
    "                               labels = label)\n",
    "nba_df['height_bins'] = nba_df['height_bins'].astype(float)\n",
    "nba_df['height_bins']"
   ]
  },
  {
   "cell_type": "code",
   "execution_count": 11,
   "id": "0ae8adf4",
   "metadata": {},
   "outputs": [
    {
     "data": {
      "text/plain": [
       "count    10028.000000\n",
       "mean       101.206787\n",
       "std         12.402737\n",
       "min         60.327736\n",
       "25%         92.872962\n",
       "50%        101.151016\n",
       "75%        110.222856\n",
       "max        155.582056\n",
       "Name: player_weight, dtype: float64"
      ]
     },
     "execution_count": 11,
     "metadata": {},
     "output_type": "execute_result"
    }
   ],
   "source": [
    "nba_df['player_weight'].describe()"
   ]
  },
  {
   "cell_type": "code",
   "execution_count": 12,
   "id": "c7b2ced5",
   "metadata": {},
   "outputs": [
    {
     "data": {
      "text/plain": [
       "0         95.0\n",
       "1        115.0\n",
       "2         95.0\n",
       "3        105.0\n",
       "4        105.0\n",
       "         ...  \n",
       "12297    105.0\n",
       "12299     95.0\n",
       "12300    115.0\n",
       "12301     95.0\n",
       "12302     95.0\n",
       "Name: weight_bins, Length: 10028, dtype: float64"
      ]
     },
     "execution_count": 12,
     "metadata": {},
     "output_type": "execute_result"
    }
   ],
   "source": [
    "label = np.arange(55.0, 165.0, 10.0)\n",
    "nba_df['weight_bins'] = pd.cut(x=nba_df['player_weight'], \n",
    "                               bins=range(50, 165, 10), \n",
    "                               include_lowest=True,\n",
    "                              labels = label)\n",
    "nba_df['weight_bins'] = nba_df['weight_bins'].astype(float)\n",
    "nba_df['weight_bins']"
   ]
  },
  {
   "cell_type": "code",
   "execution_count": 13,
   "id": "4e656ee2",
   "metadata": {},
   "outputs": [],
   "source": [
    "nba_df['dreb_pct'] = nba_df['dreb_pct'] * 100\n",
    "nba_df['oreb_pct'] = nba_df['oreb_pct'] * 100\n",
    "nba_df['usg_pct'] = nba_df['usg_pct'] * 100\n",
    "nba_df['ts_pct'] = nba_df['ts_pct'] * 100\n",
    "nba_df['ast_pct'] = nba_df['ast_pct'] * 100"
   ]
  },
  {
   "cell_type": "code",
   "execution_count": 14,
   "id": "5d22a16f",
   "metadata": {},
   "outputs": [
    {
     "data": {
      "text/plain": [
       "count    10028.000000\n",
       "mean        14.404986\n",
       "std          5.975865\n",
       "min          0.000000\n",
       "25%          9.900000\n",
       "50%         13.500000\n",
       "75%         18.300000\n",
       "max         71.400000\n",
       "Name: dreb_pct, dtype: float64"
      ]
     },
     "execution_count": 14,
     "metadata": {},
     "output_type": "execute_result"
    }
   ],
   "source": [
    "nba_df['dreb_pct'].describe()"
   ]
  },
  {
   "cell_type": "code",
   "execution_count": 15,
   "id": "d65e02f5",
   "metadata": {},
   "outputs": [
    {
     "data": {
      "text/plain": [
       "count    10028.000000\n",
       "mean         8.953361\n",
       "std          6.148471\n",
       "min          0.000000\n",
       "25%          4.100000\n",
       "50%          7.600000\n",
       "75%         12.500000\n",
       "max         36.100000\n",
       "Name: pts, dtype: float64"
      ]
     },
     "execution_count": 15,
     "metadata": {},
     "output_type": "execute_result"
    }
   ],
   "source": [
    "nba_df['pts'].describe()"
   ]
  },
  {
   "cell_type": "code",
   "execution_count": 16,
   "id": "ae009de9",
   "metadata": {},
   "outputs": [
    {
     "data": {
      "text/plain": [
       "count    10028.000000\n",
       "mean         3.853670\n",
       "std          2.533163\n",
       "min          0.000000\n",
       "25%          2.000000\n",
       "50%          3.300000\n",
       "75%          5.100000\n",
       "max         16.300000\n",
       "Name: reb, dtype: float64"
      ]
     },
     "execution_count": 16,
     "metadata": {},
     "output_type": "execute_result"
    }
   ],
   "source": [
    "nba_df['reb'].describe()"
   ]
  },
  {
   "cell_type": "code",
   "execution_count": 17,
   "id": "bc14238f",
   "metadata": {},
   "outputs": [
    {
     "data": {
      "text/plain": [
       "count    10028.00000\n",
       "mean         1.94634\n",
       "std          1.86335\n",
       "min          0.00000\n",
       "25%          0.60000\n",
       "50%          1.30000\n",
       "75%          2.60000\n",
       "max         11.70000\n",
       "Name: ast, dtype: float64"
      ]
     },
     "execution_count": 17,
     "metadata": {},
     "output_type": "execute_result"
    }
   ],
   "source": [
    "nba_df['ast'].describe()"
   ]
  },
  {
   "cell_type": "markdown",
   "id": "b53ef408",
   "metadata": {},
   "source": [
    "# Exploratory Data Analysis/Visualisation"
   ]
  },
  {
   "cell_type": "markdown",
   "id": "cd212db3",
   "metadata": {},
   "source": [
    "In our exploratory data analysis, we first explore the response variable to find the skewness and remove outliers if necessary. Outliers are removed as they might have impact on the results of statistical analyses."
   ]
  },
  {
   "cell_type": "code",
   "execution_count": 18,
   "id": "254f0ffe",
   "metadata": {},
   "outputs": [
    {
     "data": {
      "image/png": "[encoded data removed]",
      "text/plain": [
       "<Figure size 1200x400 with 3 Axes>"
      ]
     },
     "metadata": {},
     "output_type": "display_data"
    }
   ],
   "source": [
    "fig, axs = plt.subplots(nrows=1, ncols=3, figsize=(12, 4))\n",
    "\n",
    "# Boxplot\n",
    "sb.boxplot(x=nba_df['net_rating'], ax=axs[0])\n",
    "axs[0].set_xlabel('net_rating')\n",
    "axs[0].set_title('Boxplot')\n",
    "\n",
    "# Histogram\n",
    "sb.histplot(x=nba_df['net_rating'], ax=axs[1])\n",
    "axs[1].set_xlabel('net_rating')\n",
    "axs[1].set_title('Histogram')\n",
    "\n",
    "# Violin plot\n",
    "sb.violinplot(x=nba_df['net_rating'], ax=axs[2])\n",
    "axs[2].set_xlabel('net_rating')\n",
    "axs[2].set_title('Violin plot')\n",
    "\n",
    "# Adjust the layout and display the plots\n",
    "plt.tight_layout()\n",
    "plt.show()"
   ]
  },
  {
   "cell_type": "markdown",
   "id": "68af70c6",
   "metadata": {},
   "source": [
    "From the plots above, we can tell that 'net_rating' is an extremely skewed set of data. Hence, to get a better distribution and have a better view of how the predictor variables affect 'net_rating', we have decided to remove the outliers."
   ]
  },
  {
   "cell_type": "code",
   "execution_count": 19,
   "id": "dd0c3e86",
   "metadata": {},
   "outputs": [],
   "source": [
    "# Determining quartile ranges for net_rating\n",
    "q1 = nba_df['net_rating'].quantile(0.25)\n",
    "q3 = nba_df['net_rating'].quantile(0.75)\n",
    "iqr = q3 - q1\n",
    "lower_bound = q1 - 1.5 * iqr\n",
    "upper_bound = q3 + 1.5 * iqr\n",
    "\n",
    "# Filter the DataFrame to remove outliers\n",
    "nba_df = nba_df[(nba_df['net_rating'] >= lower_bound) & (nba_df['net_rating'] <= upper_bound)]"
   ]
  },
  {
   "cell_type": "code",
   "execution_count": 20,
   "id": "38f47701",
   "metadata": {},
   "outputs": [
    {
     "data": {
      "image/png": "[encoded data removed]",
      "text/plain": [
       "<Figure size 1200x400 with 3 Axes>"
      ]
     },
     "metadata": {},
     "output_type": "display_data"
    }
   ],
   "source": [
    "fig, axs = plt.subplots(nrows=1, ncols=3, figsize=(12, 4))\n",
    "\n",
    "# Boxplot\n",
    "sb.boxplot(x=nba_df['net_rating'], ax=axs[0])\n",
    "axs[0].set_xlabel('net_rating')\n",
    "axs[0].set_title('Boxplot')\n",
    "\n",
    "# Histogram\n",
    "sb.histplot(x=nba_df['net_rating'], ax=axs[1])\n",
    "axs[1].set_xlabel('net_rating')\n",
    "axs[1].set_title('Histogram')\n",
    "\n",
    "# Violin plot\n",
    "sb.violinplot(x=nba_df['net_rating'], ax=axs[2])\n",
    "axs[2].set_xlabel('net_rating')\n",
    "axs[2].set_title('Violin plot')\n",
    "\n",
    "# Adjust the layout and display the plots\n",
    "plt.tight_layout()\n",
    "plt.show()"
   ]
  },
  {
   "cell_type": "markdown",
   "id": "96fae3da",
   "metadata": {},
   "source": [
    "Personal Attributes:"
   ]
  },
  {
   "cell_type": "code",
   "execution_count": 21,
   "id": "f9c9ac74",
   "metadata": {},
   "outputs": [
    {
     "ename": "NameError",
     "evalue": "name 'colors' is not defined",
     "output_type": "error",
     "traceback": [
      "\u001b[1;31m---------------------------------------------------------------------------\u001b[0m",
      "\u001b[1;31mNameError\u001b[0m                                 Traceback (most recent call last)",
      "\u001b[1;32m~\\AppData\\Local\\Temp\\ipykernel_19432\\1379267771.py\u001b[0m in \u001b[0;36m<module>\u001b[1;34m\u001b[0m\n\u001b[0;32m      5\u001b[0m \u001b[0mnba_df\u001b[0m\u001b[1;33m.\u001b[0m\u001b[0mboxplot\u001b[0m\u001b[1;33m(\u001b[0m\u001b[0mcolumn\u001b[0m\u001b[1;33m=\u001b[0m\u001b[1;34m'net_rating'\u001b[0m\u001b[1;33m,\u001b[0m \u001b[0mby\u001b[0m\u001b[1;33m=\u001b[0m\u001b[1;34m'age_bins'\u001b[0m\u001b[1;33m,\u001b[0m \u001b[0max\u001b[0m\u001b[1;33m=\u001b[0m\u001b[0max\u001b[0m\u001b[1;33m,\u001b[0m \u001b[0mpatch_artist\u001b[0m\u001b[1;33m=\u001b[0m\u001b[1;32mTrue\u001b[0m\u001b[1;33m,\u001b[0m \u001b[0mboxprops\u001b[0m\u001b[1;33m=\u001b[0m\u001b[0mboxprops\u001b[0m\u001b[1;33m,\u001b[0m \u001b[0mwhiskerprops\u001b[0m\u001b[1;33m=\u001b[0m\u001b[0mwhiskerprops\u001b[0m\u001b[1;33m)\u001b[0m\u001b[1;33m\u001b[0m\u001b[1;33m\u001b[0m\u001b[0m\n\u001b[0;32m      6\u001b[0m \u001b[1;33m\u001b[0m\u001b[0m\n\u001b[1;32m----> 7\u001b[1;33m \u001b[1;32mfor\u001b[0m \u001b[0mi\u001b[0m\u001b[1;33m,\u001b[0m \u001b[1;33m(\u001b[0m\u001b[0mage\u001b[0m\u001b[1;33m,\u001b[0m \u001b[0mcolor\u001b[0m\u001b[1;33m)\u001b[0m \u001b[1;32min\u001b[0m \u001b[0menumerate\u001b[0m\u001b[1;33m(\u001b[0m\u001b[0mzip\u001b[0m\u001b[1;33m(\u001b[0m\u001b[0mnba_df\u001b[0m\u001b[1;33m[\u001b[0m\u001b[1;34m'age_bins'\u001b[0m\u001b[1;33m]\u001b[0m\u001b[1;33m.\u001b[0m\u001b[0munique\u001b[0m\u001b[1;33m(\u001b[0m\u001b[1;33m)\u001b[0m\u001b[1;33m,\u001b[0m \u001b[0mcolors\u001b[0m\u001b[1;33m)\u001b[0m\u001b[1;33m)\u001b[0m\u001b[1;33m:\u001b[0m\u001b[1;33m\u001b[0m\u001b[1;33m\u001b[0m\u001b[0m\n\u001b[0m\u001b[0;32m      8\u001b[0m     \u001b[1;32mfor\u001b[0m \u001b[0mpatch\u001b[0m \u001b[1;32min\u001b[0m \u001b[0max\u001b[0m\u001b[1;33m.\u001b[0m\u001b[0martists\u001b[0m\u001b[1;33m[\u001b[0m\u001b[0mi\u001b[0m\u001b[1;33m*\u001b[0m\u001b[1;36m6\u001b[0m\u001b[1;33m:\u001b[0m\u001b[0mi\u001b[0m\u001b[1;33m*\u001b[0m\u001b[1;36m6\u001b[0m\u001b[1;33m+\u001b[0m\u001b[1;36m6\u001b[0m\u001b[1;33m]\u001b[0m\u001b[1;33m:\u001b[0m\u001b[1;33m\u001b[0m\u001b[1;33m\u001b[0m\u001b[0m\n\u001b[0;32m      9\u001b[0m         \u001b[0mpatch\u001b[0m\u001b[1;33m.\u001b[0m\u001b[0mset_facecolor\u001b[0m\u001b[1;33m(\u001b[0m\u001b[0mcolor\u001b[0m\u001b[1;33m)\u001b[0m\u001b[1;33m\u001b[0m\u001b[1;33m\u001b[0m\u001b[0m\n",
      "\u001b[1;31mNameError\u001b[0m: name 'colors' is not defined"
     ]
    },
    {
     "data": {
      "image/png": "[encoded data removed]",
      "text/plain": [
       "<Figure size 1000x600 with 1 Axes>"
      ]
     },
     "metadata": {},
     "output_type": "display_data"
    }
   ],
   "source": [
    "boxprops = dict(linestyle='-', linewidth=2, color='black')\n",
    "whiskerprops = dict(linestyle='--', linewidth=1, color='black')\n",
    "\n",
    "fig, ax = plt.subplots(figsize=(10,6))\n",
    "nba_df.boxplot(column='net_rating', by='age_bins', ax=ax, patch_artist=True, boxprops=boxprops, whiskerprops=whiskerprops)\n",
    "\n",
    "for i, (age, color) in enumerate(zip(nba_df['age_bins'].unique(), colors)):\n",
    "    for patch in ax.artists[i*6:i*6+6]:\n",
    "        patch.set_facecolor(color)\n",
    "\n",
    "plt.show()"
   ]
  },
  {
   "cell_type": "code",
   "execution_count": null,
   "id": "e291105e",
   "metadata": {},
   "outputs": [],
   "source": [
    "correlation = nba_df['age_bins'].corr(nba_df['net_rating'])\n",
    "print(\"Correlation: \" ,correlation)"
   ]
  },
  {
   "cell_type": "code",
   "execution_count": null,
   "id": "50ee35c4",
   "metadata": {},
   "outputs": [],
   "source": [
    "boxprops = dict(linestyle='-', linewidth=2, color='black')\n",
    "whiskerprops = dict(linestyle='--', linewidth=1, color='black')\n",
    "\n",
    "fig, ax = plt.subplots(figsize=(10,6))\n",
    "nba_df.boxplot(column='net_rating', by='weight_bins', ax=ax, patch_artist=True, boxprops=boxprops, whiskerprops=whiskerprops)\n",
    "\n",
    "for i, (age, color) in enumerate(zip(nba_df['weight_bins'].unique(), colors)):\n",
    "    for patch in ax.artists[i*6:i*6+6]:\n",
    "        patch.set_facecolor(color)\n",
    "\n",
    "plt.show()"
   ]
  },
  {
   "cell_type": "code",
   "execution_count": null,
   "id": "48569d6f",
   "metadata": {},
   "outputs": [],
   "source": [
    "correlation = nba_df['weight_bins'].corr(nba_df['net_rating'])\n",
    "print(\"Correlation: \" ,correlation)"
   ]
  },
  {
   "cell_type": "code",
   "execution_count": null,
   "id": "071c7095",
   "metadata": {},
   "outputs": [],
   "source": [
    "boxprops = dict(linestyle='-', linewidth=2, color='black')\n",
    "whiskerprops = dict(linestyle='--', linewidth=1, color='black')\n",
    "\n",
    "fig, ax = plt.subplots(figsize=(10,6))\n",
    "nba_df.boxplot(column='net_rating', by='height_bins', ax=ax, patch_artist=True, boxprops=boxprops, whiskerprops=whiskerprops)\n",
    "\n",
    "for i, (age, color) in enumerate(zip(nba_df['height_bins'].unique(), colors)):\n",
    "    for patch in ax.artists[i*6:i*6+6]:\n",
    "        patch.set_facecolor(color)\n",
    "\n",
    "plt.show()"
   ]
  },
  {
   "cell_type": "code",
   "execution_count": null,
   "id": "2a1cf972",
   "metadata": {},
   "outputs": [],
   "source": [
    "correlation = nba_df['height_bins'].corr(nba_df['net_rating'])\n",
    "print(\"Correlation: \" ,correlation)"
   ]
  },
  {
   "cell_type": "markdown",
   "id": "0fd2f175",
   "metadata": {},
   "source": [
    "Personal stats:"
   ]
  },
  {
   "cell_type": "code",
   "execution_count": null,
   "id": "cc3841dd",
   "metadata": {},
   "outputs": [],
   "source": [
    "nba_df.boxplot(column='net_rating', by='oreb_pct',figsize=(10,6))"
   ]
  },
  {
   "cell_type": "code",
   "execution_count": null,
   "id": "240a6bd5",
   "metadata": {},
   "outputs": [],
   "source": [
    "correlation = nba_df['oreb_pct'].corr(nba_df['net_rating'])\n",
    "print(\"Correlation: \" ,correlation)"
   ]
  },
  {
   "cell_type": "code",
   "execution_count": null,
   "id": "647bd2a5",
   "metadata": {},
   "outputs": [],
   "source": [
    "nba_df.boxplot(column='net_rating', by='dreb_pct',figsize=(10,6))"
   ]
  },
  {
   "cell_type": "code",
   "execution_count": null,
   "id": "df153530",
   "metadata": {},
   "outputs": [],
   "source": [
    "correlation = nba_df['dreb_pct'].corr(nba_df['net_rating'])\n",
    "print(correlation)"
   ]
  },
  {
   "cell_type": "code",
   "execution_count": null,
   "id": "8fb2bfb7",
   "metadata": {},
   "outputs": [],
   "source": [
    "nba_df.boxplot(column='net_rating', by='ast_pct',figsize=(10,6))"
   ]
  },
  {
   "cell_type": "code",
   "execution_count": null,
   "id": "4f1eccd8",
   "metadata": {},
   "outputs": [],
   "source": [
    "correlation = nba_df['ast_pct'].corr(nba_df['net_rating'])\n",
    "print(\"Correlation: \" ,correlation)"
   ]
  },
  {
   "cell_type": "code",
   "execution_count": null,
   "id": "85de29f8",
   "metadata": {},
   "outputs": [],
   "source": [
    "nba_df.boxplot(column='net_rating', by='ts_pct',figsize=(10,6))"
   ]
  },
  {
   "cell_type": "code",
   "execution_count": null,
   "id": "bcb194d0",
   "metadata": {},
   "outputs": [],
   "source": [
    "correlation = nba_df['ts_pct'].corr(nba_df['net_rating'])\n",
    "print(\"Correlation: \" ,correlation)"
   ]
  },
  {
   "cell_type": "code",
   "execution_count": null,
   "id": "6f41c803",
   "metadata": {},
   "outputs": [],
   "source": [
    "nba_df.boxplot(column='net_rating', by='usg_pct',figsize=(10,6))"
   ]
  },
  {
   "cell_type": "code",
   "execution_count": null,
   "id": "2b4ddcee",
   "metadata": {},
   "outputs": [],
   "source": [
    "correlation = nba_df['usg_pct'].corr(nba_df['net_rating'])\n",
    "print(\"Correlation: \" ,correlation)"
   ]
  },
  {
   "cell_type": "code",
   "execution_count": null,
   "id": "31147a7d",
   "metadata": {},
   "outputs": [],
   "source": [
    "nba_df.boxplot(column='net_rating', by='reb',figsize=(10,6))"
   ]
  },
  {
   "cell_type": "code",
   "execution_count": null,
   "id": "67d3c418",
   "metadata": {},
   "outputs": [],
   "source": [
    "correlation = nba_df['reb'].corr(nba_df['net_rating'])\n",
    "print(\"Correlation: \" ,correlation)"
   ]
  },
  {
   "cell_type": "code",
   "execution_count": null,
   "id": "e04d3b08",
   "metadata": {},
   "outputs": [],
   "source": [
    "nba_df.boxplot(column='net_rating', by='pts',figsize=(10,6))"
   ]
  },
  {
   "cell_type": "code",
   "execution_count": null,
   "id": "daefe676",
   "metadata": {},
   "outputs": [],
   "source": [
    "correlation = nba_df['pts'].corr(nba_df['net_rating'])\n",
    "print(\"Correlation: \" ,correlation)"
   ]
  },
  {
   "cell_type": "code",
   "execution_count": null,
   "id": "483aa3b7",
   "metadata": {},
   "outputs": [],
   "source": [
    "nba_df.boxplot(column='net_rating', by='gp',figsize=(10,6))"
   ]
  },
  {
   "cell_type": "code",
   "execution_count": null,
   "id": "77899e70",
   "metadata": {},
   "outputs": [],
   "source": [
    "correlation = nba_df['gp'].corr(nba_df['net_rating'])\n",
    "print(\"Correlation: \" ,correlation)"
   ]
  },
  {
   "cell_type": "code",
   "execution_count": null,
   "id": "5f01300a",
   "metadata": {},
   "outputs": [],
   "source": [
    "nba_df.boxplot(column='net_rating', by='ast',figsize=(10,6))"
   ]
  },
  {
   "cell_type": "code",
   "execution_count": null,
   "id": "f63484e2",
   "metadata": {},
   "outputs": [],
   "source": [
    "correlation = nba_df['ast'].corr(nba_df['net_rating'])\n",
    "print(\"Correlation: \" ,correlation)"
   ]
  },
  {
   "cell_type": "code",
   "execution_count": null,
   "id": "7a7d5cc8",
   "metadata": {},
   "outputs": [],
   "source": [
    "boxprops = dict(linestyle='-', linewidth=2, color='black')\n",
    "whiskerprops = dict(linestyle='--', linewidth=1, color='black')\n",
    "\n",
    "fig, ax = plt.subplots(figsize=(10,6))\n",
    "nba_df.boxplot(column='net_rating', by='draft_round', ax=ax, patch_artist=True, boxprops=boxprops, whiskerprops=whiskerprops)\n",
    "\n",
    "for i, (age, color) in enumerate(zip(nba_df['draft_round'].unique(), colors)):\n",
    "    for patch in ax.artists[i*6:i*6+6]:\n",
    "        patch.set_facecolor(color)\n",
    "\n",
    "plt.show()"
   ]
  },
  {
   "cell_type": "code",
   "execution_count": null,
   "id": "14bed43a",
   "metadata": {},
   "outputs": [],
   "source": [
    "correlation = nba_df['draft_round'].corr(nba_df['net_rating'])\n",
    "print(\"Correlation: \" ,correlation)"
   ]
  },
  {
   "cell_type": "code",
   "execution_count": null,
   "id": "13ff1e34",
   "metadata": {},
   "outputs": [],
   "source": [
    "nba_df.boxplot(column='net_rating', by='draft_number',figsize=(10,6))"
   ]
  },
  {
   "cell_type": "code",
   "execution_count": null,
   "id": "53b11b45",
   "metadata": {},
   "outputs": [],
   "source": [
    "correlation = nba_df['draft_number'].corr(nba_df['net_rating'])\n",
    "print(\"Correlation: \" ,correlation)"
   ]
  },
  {
   "cell_type": "code",
   "execution_count": null,
   "id": "87e99e52",
   "metadata": {},
   "outputs": [],
   "source": [
    "f = plt.figure(figsize = (16, 16))\n",
    "sb.heatmap(nba_df.corr(), vmin=-1, vmax=1, linewidths=1,\n",
    "           annot=True, fmt=\".2f\", annot_kws={\"size\": 18}, cmap=\"RdBu\")"
   ]
  },
  {
   "cell_type": "markdown",
   "id": "04f6a6b2",
   "metadata": {},
   "source": [
    "Visually, from the boxplots of predictor variables against net_rating, there is little to no distinct linear relationship. Hence, we propose that correlation might be non-linear. To explore the non-linear relationship, we decided to use Kendall's Rank Coefficient as a measure of non-linear correlation as it is particularly useful when dealing with non-parametric data, or data that does not meet the assumptions of normality or homogeneity of variance."
   ]
  },
  {
   "cell_type": "code",
   "execution_count": null,
   "id": "7ccea165",
   "metadata": {},
   "outputs": [],
   "source": [
    "kendall_corr_matrix = nba_df.corr(method='kendall')"
   ]
  },
  {
   "cell_type": "code",
   "execution_count": null,
   "id": "f5118313",
   "metadata": {},
   "outputs": [],
   "source": [
    "f = plt.figure(figsize = (16, 16))\n",
    "sb.heatmap(kendall_corr_matrix, vmin=-1, vmax=1, linewidths=1,\n",
    "           annot=True, fmt=\".2f\", annot_kws={\"size\": 18}, cmap=\"RdBu\")"
   ]
  },
  {
   "cell_type": "markdown",
   "id": "3ad29a0c",
   "metadata": {},
   "source": [
    "Even so, the non-linear correlationship seems very weak."
   ]
  },
  {
   "cell_type": "markdown",
   "id": "46159268",
   "metadata": {},
   "source": [
    "# Machine Learning"
   ]
  },
  {
   "cell_type": "markdown",
   "id": "2a148f0c",
   "metadata": {},
   "source": [
    "As seen above, the correlation of personal stats and attributes of the players and their net rating are low as seen from the Pearson and Kendall's rank coefficient values, showing that the relationship is complex.\n",
    "\n",
    "Hence, we will plan to proceed using a decision tree model as our machine learning prediction model as a strong relationship is not necessary for the model to function."
   ]
  },
  {
   "cell_type": "code",
   "execution_count": null,
   "id": "8622d529",
   "metadata": {},
   "outputs": [],
   "source": [
    "y = nba_df['net_rating']\n",
    "x = nba_df.drop('net_rating', axis=1)\n",
    "mi_scores = mutual_info_regression(x, y)\n",
    "k = 5\n",
    "top_k_indices = np.argsort(mi_scores)[-k:]\n",
    "top_k_features = x.columns[top_k_indices]\n",
    "print(top_k_features)"
   ]
  },
  {
   "cell_type": "code",
   "execution_count": null,
   "id": "73f8e90e",
   "metadata": {},
   "outputs": [],
   "source": [
    "predictors_df = pd.DataFrame(nba_df[['gp', 'pts', 'reb', 'ast', 'ts_pct']])\n",
    "response_df = nba_df['net_rating']\n",
    "predictors_train, predictors_test, response_train, response_test = train_test_split(predictors_df, response_df, test_size = 0.2)"
   ]
  },
  {
   "cell_type": "code",
   "execution_count": null,
   "id": "607c6c55",
   "metadata": {},
   "outputs": [],
   "source": [
    "dectree = DecisionTreeRegressor(max_depth = 4) \n",
    "dectree.fit(predictors_train, response_train) \n",
    "\n",
    "f = plt.figure(figsize=(24,12))\n",
    "plot_tree(dectree, filled=True, rounded=True, \n",
    "          feature_names = predictors_train.columns, \n",
    "          class_names = [\"N\",\"Y\"])"
   ]
  },
  {
   "cell_type": "code",
   "execution_count": null,
   "id": "36fd278a",
   "metadata": {},
   "outputs": [],
   "source": [
    "scoring = {'mae': 'neg_mean_absolute_error',\n",
    "           'mse': 'neg_mean_squared_error',\n",
    "           'r2': 'r2'}\n",
    "\n",
    "cv_results = cross_validate(dectree, predictors_df, response_df, cv=5, scoring=scoring)\n",
    "\n",
    "mae_cv = abs(np.mean(cv_results['test_mae']))\n",
    "mse_cv = abs(np.mean(cv_results['test_mse']))\n",
    "r2_cv = np.mean(cv_results['test_r2'])\n",
    "\n",
    "print(\"Mean Absolute Error (CV):\", mae_cv)\n",
    "print(\"Mean Squared Error (CV):\", mse_cv)\n",
    "print(\"R^2 score (CV):\", r2_cv)"
   ]
  },
  {
   "cell_type": "markdown",
   "id": "970213e3",
   "metadata": {},
   "source": [
    "An R-squared value of 0.133 means that the predictor variables can only explain 13.3% of the variability in the response variable. Furthermore, taking in account the high MAE and MSE values, this suggests that there are other factors beyond the predictor variables that are affecting the response variable.\n",
    "\n",
    "Hence, we can conclude that personal stats and physical attributes only play a small role in determining a player's impact on the court in the NBA, both on the defensive and offensive side."
   ]
  }
 ],
 "metadata": {
  "kernelspec": {
   "display_name": "Python 3 (ipykernel)",
   "language": "python",
   "name": "python3"
  },
  "language_info": {
   "codemirror_mode": {
    "name": "ipython",
    "version": 3
   },
   "file_extension": ".py",
   "mimetype": "text/x-python",
   "name": "python",
   "nbconvert_exporter": "python",
   "pygments_lexer": "ipython3",
   "version": "3.9.13"
  }
 },
 "nbformat": 4,
 "nbformat_minor": 5
}
